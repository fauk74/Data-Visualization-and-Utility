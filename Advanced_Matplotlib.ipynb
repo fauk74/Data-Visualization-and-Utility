{
  "nbformat": 4,
  "nbformat_minor": 0,
  "metadata": {
    "colab": {
      "name": "Advanced Matplotlib.ipynb",
      "provenance": [],
      "collapsed_sections": [],
      "authorship_tag": "ABX9TyNAcLlbkMNE2icG0JQoGmc9",
      "include_colab_link": true
    },
    "kernelspec": {
      "name": "python3",
      "display_name": "Python 3"
    },
    "language_info": {
      "name": "python"
    }
  },
  "cells": [
    {
      "cell_type": "markdown",
      "metadata": {
        "id": "view-in-github",
        "colab_type": "text"
      },
      "source": [
        "<a href=\"https://colab.research.google.com/github/fauk74/Data-Visualization-and-Utility/blob/main/Advanced_Matplotlib.ipynb\" target=\"_parent\"><img src=\"https://colab.research.google.com/assets/colab-badge.svg\" alt=\"Open In Colab\"/></a>"
      ]
    },
    {
      "cell_type": "markdown",
      "source": [
        "#  10 Advanced Matplotlib Concepts You Must Know To Create Killer Visuals"
      ],
      "metadata": {
        "id": "9qRco0Bewo0r"
      }
    },
    {
      "cell_type": "markdown",
      "source": [
        "https://towardsdatascience.com/10-advanced-matplotlib-concepts-you-must-know-to-create-killer-visuals-9a32d241e31d"
      ],
      "metadata": {
        "id": "SSQ4zpALRh4R"
      }
    },
    {
      "cell_type": "markdown",
      "source": [
        "Actually, there is no such thing as an advanced Matplotlib user. There is only a matter of who spent more time on the documentation and practiced what they read.\n",
        "So, if your goal is to become an “advanced Matplotlib user,” there are only two obstacles in your way. One — immersing yourself into the Matplotlib docs for a few hours, and second — getting your hands dirty with every code chunk you encounter. My job is to let you skip the first barrier by teaching a few key concepts that you would only see used by the pros, possibly in under 10 minutes."
      ],
      "metadata": {
        "id": "9FWb_TSxweAB"
      }
    },
    {
      "cell_type": "markdown",
      "source": [
        "# 1. RC PARAMS"
      ],
      "metadata": {
        "id": "2BdvRyq_wlba"
      }
    },
    {
      "cell_type": "markdown",
      "source": [
        "Let’s start from the highest-level concepts.\n",
        "The first on our list is the rcParams dictionary. It contains all Matplotlib settings that are used to create the default styles of the figures. You import it directly from the matplotlib namespace:"
      ],
      "metadata": {
        "id": "WyJKa_tTweg1"
      }
    },
    {
      "cell_type": "code",
      "source": [
        "from matplotlib import rcParams\n",
        "%matplotlib inline"
      ],
      "metadata": {
        "id": "sE5NZXIQwPKg"
      },
      "execution_count": 42,
      "outputs": []
    },
    {
      "cell_type": "code",
      "source": [
        "import matplotlib.pyplot as plt\n",
        "import numpy as np\n",
        "\n"
      ],
      "metadata": {
        "id": "MEwtTV-GxDCV"
      },
      "execution_count": 43,
      "outputs": []
    },
    {
      "cell_type": "code",
      "source": [
        "rcParams"
      ],
      "metadata": {
        "colab": {
          "base_uri": "https://localhost:8080/"
        },
        "id": "tUAsuG3kw0qu",
        "outputId": "e058525a-e659-4c64-b711-ef3920a5b096"
      },
      "execution_count": 44,
      "outputs": [
        {
          "output_type": "execute_result",
          "data": {
            "text/plain": [
              "RcParams({'_internal.classic_mode': False,\n",
              "          'agg.path.chunksize': 0,\n",
              "          'animation.avconv_args': [],\n",
              "          'animation.avconv_path': 'avconv',\n",
              "          'animation.bitrate': -1,\n",
              "          'animation.codec': 'h264',\n",
              "          'animation.convert_args': [],\n",
              "          'animation.convert_path': 'convert',\n",
              "          'animation.embed_limit': 20.0,\n",
              "          'animation.ffmpeg_args': [],\n",
              "          'animation.ffmpeg_path': 'ffmpeg',\n",
              "          'animation.frame_format': 'png',\n",
              "          'animation.html': 'none',\n",
              "          'animation.html_args': [],\n",
              "          'animation.writer': 'ffmpeg',\n",
              "          'axes.autolimit_mode': 'data',\n",
              "          'axes.axisbelow': 'line',\n",
              "          'axes.edgecolor': 'black',\n",
              "          'axes.facecolor': 'white',\n",
              "          'axes.formatter.limits': [-5, 6],\n",
              "          'axes.formatter.min_exponent': 0,\n",
              "          'axes.formatter.offset_threshold': 4,\n",
              "          'axes.formatter.use_locale': False,\n",
              "          'axes.formatter.use_mathtext': False,\n",
              "          'axes.formatter.useoffset': True,\n",
              "          'axes.grid': False,\n",
              "          'axes.grid.axis': 'both',\n",
              "          'axes.grid.which': 'major',\n",
              "          'axes.labelcolor': 'black',\n",
              "          'axes.labelpad': 4.0,\n",
              "          'axes.labelsize': 'medium',\n",
              "          'axes.labelweight': 'normal',\n",
              "          'axes.linewidth': 0.8,\n",
              "          'axes.prop_cycle': cycler('color', ['#1f77b4', '#ff7f0e', '#2ca02c', '#d62728', '#9467bd', '#8c564b', '#e377c2', '#7f7f7f', '#bcbd22', '#17becf']),\n",
              "          'axes.spines.bottom': True,\n",
              "          'axes.spines.left': True,\n",
              "          'axes.spines.right': True,\n",
              "          'axes.spines.top': True,\n",
              "          'axes.titlecolor': 'auto',\n",
              "          'axes.titlelocation': 'center',\n",
              "          'axes.titlepad': 6.0,\n",
              "          'axes.titlesize': 'large',\n",
              "          'axes.titleweight': 'normal',\n",
              "          'axes.unicode_minus': True,\n",
              "          'axes.xmargin': 0.05,\n",
              "          'axes.ymargin': 0.05,\n",
              "          'axes3d.grid': True,\n",
              "          'backend': 'agg',\n",
              "          'backend_fallback': True,\n",
              "          'boxplot.bootstrap': None,\n",
              "          'boxplot.boxprops.color': 'black',\n",
              "          'boxplot.boxprops.linestyle': '-',\n",
              "          'boxplot.boxprops.linewidth': 1.0,\n",
              "          'boxplot.capprops.color': 'black',\n",
              "          'boxplot.capprops.linestyle': '-',\n",
              "          'boxplot.capprops.linewidth': 1.0,\n",
              "          'boxplot.flierprops.color': 'black',\n",
              "          'boxplot.flierprops.linestyle': 'none',\n",
              "          'boxplot.flierprops.linewidth': 1.0,\n",
              "          'boxplot.flierprops.marker': 'o',\n",
              "          'boxplot.flierprops.markeredgecolor': 'black',\n",
              "          'boxplot.flierprops.markeredgewidth': 1.0,\n",
              "          'boxplot.flierprops.markerfacecolor': 'none',\n",
              "          'boxplot.flierprops.markersize': 6.0,\n",
              "          'boxplot.meanline': False,\n",
              "          'boxplot.meanprops.color': 'C2',\n",
              "          'boxplot.meanprops.linestyle': '--',\n",
              "          'boxplot.meanprops.linewidth': 1.0,\n",
              "          'boxplot.meanprops.marker': '^',\n",
              "          'boxplot.meanprops.markeredgecolor': 'C2',\n",
              "          'boxplot.meanprops.markerfacecolor': 'C2',\n",
              "          'boxplot.meanprops.markersize': 6.0,\n",
              "          'boxplot.medianprops.color': 'C1',\n",
              "          'boxplot.medianprops.linestyle': '-',\n",
              "          'boxplot.medianprops.linewidth': 1.0,\n",
              "          'boxplot.notch': False,\n",
              "          'boxplot.patchartist': False,\n",
              "          'boxplot.showbox': True,\n",
              "          'boxplot.showcaps': True,\n",
              "          'boxplot.showfliers': True,\n",
              "          'boxplot.showmeans': False,\n",
              "          'boxplot.vertical': True,\n",
              "          'boxplot.whiskerprops.color': 'black',\n",
              "          'boxplot.whiskerprops.linestyle': '-',\n",
              "          'boxplot.whiskerprops.linewidth': 1.0,\n",
              "          'boxplot.whiskers': 1.5,\n",
              "          'contour.corner_mask': True,\n",
              "          'contour.negative_linestyle': 'dashed',\n",
              "          'datapath': '/usr/local/lib/python3.7/dist-packages/matplotlib/mpl-data',\n",
              "          'date.autoformatter.day': '%Y-%m-%d',\n",
              "          'date.autoformatter.hour': '%m-%d %H',\n",
              "          'date.autoformatter.microsecond': '%M:%S.%f',\n",
              "          'date.autoformatter.minute': '%d %H:%M',\n",
              "          'date.autoformatter.month': '%Y-%m',\n",
              "          'date.autoformatter.second': '%H:%M:%S',\n",
              "          'date.autoformatter.year': '%Y',\n",
              "          'docstring.hardcopy': False,\n",
              "          'errorbar.capsize': 0.0,\n",
              "          'figure.autolayout': False,\n",
              "          'figure.constrained_layout.h_pad': 0.04167,\n",
              "          'figure.constrained_layout.hspace': 0.02,\n",
              "          'figure.constrained_layout.use': False,\n",
              "          'figure.constrained_layout.w_pad': 0.04167,\n",
              "          'figure.constrained_layout.wspace': 0.02,\n",
              "          'figure.dpi': 72.0,\n",
              "          'figure.edgecolor': (1, 1, 1, 0),\n",
              "          'figure.facecolor': (1, 1, 1, 0),\n",
              "          'figure.figsize': [6.0, 4.0],\n",
              "          'figure.frameon': True,\n",
              "          'figure.max_open_warning': 20,\n",
              "          'figure.subplot.bottom': 0.125,\n",
              "          'figure.subplot.hspace': 0.2,\n",
              "          'figure.subplot.left': 0.125,\n",
              "          'figure.subplot.right': 0.9,\n",
              "          'figure.subplot.top': 0.88,\n",
              "          'figure.subplot.wspace': 0.2,\n",
              "          'figure.titlesize': 'large',\n",
              "          'figure.titleweight': 'normal',\n",
              "          'font.cursive': ['Apple Chancery',\n",
              "                           'Textile',\n",
              "                           'Zapf Chancery',\n",
              "                           'Sand',\n",
              "                           'Script MT',\n",
              "                           'Felipa',\n",
              "                           'cursive'],\n",
              "          'font.family': ['sans-serif'],\n",
              "          'font.fantasy': ['Comic Neue',\n",
              "                           'Comic Sans MS',\n",
              "                           'Chicago',\n",
              "                           'Charcoal',\n",
              "                           'Impact',\n",
              "                           'Western',\n",
              "                           'Humor Sans',\n",
              "                           'xkcd',\n",
              "                           'fantasy'],\n",
              "          'font.monospace': ['DejaVu Sans Mono',\n",
              "                             'Bitstream Vera Sans Mono',\n",
              "                             'Computer Modern Typewriter',\n",
              "                             'Andale Mono',\n",
              "                             'Nimbus Mono L',\n",
              "                             'Courier New',\n",
              "                             'Courier',\n",
              "                             'Fixed',\n",
              "                             'Terminal',\n",
              "                             'monospace'],\n",
              "          'font.sans-serif': ['DejaVu Sans',\n",
              "                              'Bitstream Vera Sans',\n",
              "                              'Computer Modern Sans Serif',\n",
              "                              'Lucida Grande',\n",
              "                              'Verdana',\n",
              "                              'Geneva',\n",
              "                              'Lucid',\n",
              "                              'Arial',\n",
              "                              'Helvetica',\n",
              "                              'Avant Garde',\n",
              "                              'sans-serif'],\n",
              "          'font.serif': ['DejaVu Serif',\n",
              "                         'Bitstream Vera Serif',\n",
              "                         'Computer Modern Roman',\n",
              "                         'New Century Schoolbook',\n",
              "                         'Century Schoolbook L',\n",
              "                         'Utopia',\n",
              "                         'ITC Bookman',\n",
              "                         'Bookman',\n",
              "                         'Nimbus Roman No9 L',\n",
              "                         'Times New Roman',\n",
              "                         'Times',\n",
              "                         'Palatino',\n",
              "                         'Charter',\n",
              "                         'serif'],\n",
              "          'font.size': 10.0,\n",
              "          'font.stretch': 'normal',\n",
              "          'font.style': 'normal',\n",
              "          'font.variant': 'normal',\n",
              "          'font.weight': 'normal',\n",
              "          'grid.alpha': 1.0,\n",
              "          'grid.color': '#b0b0b0',\n",
              "          'grid.linestyle': '-',\n",
              "          'grid.linewidth': 0.8,\n",
              "          'hatch.color': 'black',\n",
              "          'hatch.linewidth': 1.0,\n",
              "          'hist.bins': 10,\n",
              "          'image.aspect': 'equal',\n",
              "          'image.cmap': 'viridis',\n",
              "          'image.composite_image': True,\n",
              "          'image.interpolation': 'antialiased',\n",
              "          'image.lut': 256,\n",
              "          'image.origin': 'upper',\n",
              "          'image.resample': True,\n",
              "          'interactive': True,\n",
              "          'keymap.all_axes': ['a'],\n",
              "          'keymap.back': ['left', 'c', 'backspace', 'MouseButton.BACK'],\n",
              "          'keymap.copy': ['ctrl+c', 'cmd+c'],\n",
              "          'keymap.forward': ['right', 'v', 'MouseButton.FORWARD'],\n",
              "          'keymap.fullscreen': ['f', 'ctrl+f'],\n",
              "          'keymap.grid': ['g'],\n",
              "          'keymap.grid_minor': ['G'],\n",
              "          'keymap.help': ['f1'],\n",
              "          'keymap.home': ['h', 'r', 'home'],\n",
              "          'keymap.pan': ['p'],\n",
              "          'keymap.quit': ['ctrl+w', 'cmd+w', 'q'],\n",
              "          'keymap.quit_all': ['W', 'cmd+W', 'Q'],\n",
              "          'keymap.save': ['s', 'ctrl+s'],\n",
              "          'keymap.xscale': ['k', 'L'],\n",
              "          'keymap.yscale': ['l'],\n",
              "          'keymap.zoom': ['o'],\n",
              "          'legend.borderaxespad': 0.5,\n",
              "          'legend.borderpad': 0.4,\n",
              "          'legend.columnspacing': 2.0,\n",
              "          'legend.edgecolor': '0.8',\n",
              "          'legend.facecolor': 'inherit',\n",
              "          'legend.fancybox': True,\n",
              "          'legend.fontsize': 'medium',\n",
              "          'legend.framealpha': 0.8,\n",
              "          'legend.frameon': True,\n",
              "          'legend.handleheight': 0.7,\n",
              "          'legend.handlelength': 2.0,\n",
              "          'legend.handletextpad': 0.8,\n",
              "          'legend.labelspacing': 0.5,\n",
              "          'legend.loc': 'best',\n",
              "          'legend.markerscale': 1.0,\n",
              "          'legend.numpoints': 1,\n",
              "          'legend.scatterpoints': 1,\n",
              "          'legend.shadow': False,\n",
              "          'legend.title_fontsize': None,\n",
              "          'lines.antialiased': True,\n",
              "          'lines.color': 'C0',\n",
              "          'lines.dash_capstyle': 'butt',\n",
              "          'lines.dash_joinstyle': 'round',\n",
              "          'lines.dashdot_pattern': [6.4, 1.6, 1.0, 1.6],\n",
              "          'lines.dashed_pattern': [3.7, 1.6],\n",
              "          'lines.dotted_pattern': [1.0, 1.65],\n",
              "          'lines.linestyle': '-',\n",
              "          'lines.linewidth': 1.5,\n",
              "          'lines.marker': 'None',\n",
              "          'lines.markeredgecolor': 'auto',\n",
              "          'lines.markeredgewidth': 1.0,\n",
              "          'lines.markerfacecolor': 'auto',\n",
              "          'lines.markersize': 6.0,\n",
              "          'lines.scale_dashes': True,\n",
              "          'lines.solid_capstyle': 'projecting',\n",
              "          'lines.solid_joinstyle': 'round',\n",
              "          'markers.fillstyle': 'full',\n",
              "          'mathtext.bf': 'sans:bold',\n",
              "          'mathtext.cal': 'cursive',\n",
              "          'mathtext.default': 'it',\n",
              "          'mathtext.fallback_to_cm': True,\n",
              "          'mathtext.fontset': 'dejavusans',\n",
              "          'mathtext.it': 'sans:italic',\n",
              "          'mathtext.rm': 'sans',\n",
              "          'mathtext.sf': 'sans',\n",
              "          'mathtext.tt': 'monospace',\n",
              "          'mpl_toolkits.legacy_colorbar': True,\n",
              "          'patch.antialiased': True,\n",
              "          'patch.edgecolor': 'black',\n",
              "          'patch.facecolor': 'C0',\n",
              "          'patch.force_edgecolor': False,\n",
              "          'patch.linewidth': 1.0,\n",
              "          'path.effects': [],\n",
              "          'path.simplify': True,\n",
              "          'path.simplify_threshold': 0.1111111111111111,\n",
              "          'path.sketch': None,\n",
              "          'path.snap': True,\n",
              "          'pdf.compression': 6,\n",
              "          'pdf.fonttype': 3,\n",
              "          'pdf.inheritcolor': False,\n",
              "          'pdf.use14corefonts': False,\n",
              "          'pgf.preamble': '',\n",
              "          'pgf.rcfonts': True,\n",
              "          'pgf.texsystem': 'xelatex',\n",
              "          'polaraxes.grid': True,\n",
              "          'ps.distiller.res': 6000,\n",
              "          'ps.fonttype': 3,\n",
              "          'ps.papersize': 'letter',\n",
              "          'ps.useafm': False,\n",
              "          'ps.usedistiller': None,\n",
              "          'savefig.bbox': None,\n",
              "          'savefig.directory': '~',\n",
              "          'savefig.dpi': 'figure',\n",
              "          'savefig.edgecolor': 'white',\n",
              "          'savefig.facecolor': 'white',\n",
              "          'savefig.format': 'png',\n",
              "          'savefig.frameon': True,\n",
              "          'savefig.jpeg_quality': 95,\n",
              "          'savefig.orientation': 'portrait',\n",
              "          'savefig.pad_inches': 0.1,\n",
              "          'savefig.transparent': False,\n",
              "          'scatter.edgecolors': 'face',\n",
              "          'scatter.marker': 'o',\n",
              "          'svg.fonttype': 'path',\n",
              "          'svg.hashsalt': None,\n",
              "          'svg.image_inline': True,\n",
              "          'text.antialiased': True,\n",
              "          'text.color': 'black',\n",
              "          'text.hinting': 'auto',\n",
              "          'text.hinting_factor': 8,\n",
              "          'text.kerning_factor': 0,\n",
              "          'text.latex.preamble': '',\n",
              "          'text.latex.preview': False,\n",
              "          'text.latex.unicode': True,\n",
              "          'text.usetex': False,\n",
              "          'timezone': 'UTC',\n",
              "          'tk.window_focus': False,\n",
              "          'toolbar': 'toolbar2',\n",
              "          'verbose.fileo': 'sys.stdout',\n",
              "          'verbose.level': 'silent',\n",
              "          'webagg.address': '127.0.0.1',\n",
              "          'webagg.open_in_browser': True,\n",
              "          'webagg.port': 8988,\n",
              "          'webagg.port_retries': 50,\n",
              "          'xtick.alignment': 'center',\n",
              "          'xtick.bottom': True,\n",
              "          'xtick.color': 'black',\n",
              "          'xtick.direction': 'out',\n",
              "          'xtick.labelbottom': True,\n",
              "          'xtick.labelsize': 'medium',\n",
              "          'xtick.labeltop': False,\n",
              "          'xtick.major.bottom': True,\n",
              "          'xtick.major.pad': 3.5,\n",
              "          'xtick.major.size': 3.5,\n",
              "          'xtick.major.top': True,\n",
              "          'xtick.major.width': 0.8,\n",
              "          'xtick.minor.bottom': True,\n",
              "          'xtick.minor.pad': 3.4,\n",
              "          'xtick.minor.size': 2.0,\n",
              "          'xtick.minor.top': True,\n",
              "          'xtick.minor.visible': False,\n",
              "          'xtick.minor.width': 0.6,\n",
              "          'xtick.top': False,\n",
              "          'ytick.alignment': 'center_baseline',\n",
              "          'ytick.color': 'black',\n",
              "          'ytick.direction': 'out',\n",
              "          'ytick.labelleft': True,\n",
              "          'ytick.labelright': False,\n",
              "          'ytick.labelsize': 'medium',\n",
              "          'ytick.left': True,\n",
              "          'ytick.major.left': True,\n",
              "          'ytick.major.pad': 3.5,\n",
              "          'ytick.major.right': True,\n",
              "          'ytick.major.size': 3.5,\n",
              "          'ytick.major.width': 0.8,\n",
              "          'ytick.minor.left': True,\n",
              "          'ytick.minor.pad': 3.4,\n",
              "          'ytick.minor.right': True,\n",
              "          'ytick.minor.size': 2.0,\n",
              "          'ytick.minor.visible': False,\n",
              "          'ytick.minor.width': 0.6,\n",
              "          'ytick.right': False})"
            ]
          },
          "metadata": {},
          "execution_count": 44
        }
      ]
    },
    {
      "cell_type": "code",
      "source": [
        ""
      ],
      "metadata": {
        "id": "v7ZqCkH6w7Sa"
      },
      "execution_count": 44,
      "outputs": []
    },
    {
      "cell_type": "markdown",
      "source": [
        "When working on different projects, you will have to render your charts in different environments and for different audiences. Based on this, you have to tweak this dictionary beforehand so that all your future visuals have a consistent theme and style. It will also save time because you avoid calling the same parameters every time you create a new plot.\n",
        "If you ever mess something up or want to get back to the defaults, you can call the rcdefaults function of PyPlot, which resets everything."
      ],
      "metadata": {
        "id": "klKLX52jw8pH"
      }
    },
    {
      "cell_type": "code",
      "source": [
        "plt.rcdefaults()"
      ],
      "metadata": {
        "id": "Axcr1pnpw9uI"
      },
      "execution_count": 45,
      "outputs": []
    },
    {
      "cell_type": "markdown",
      "source": [
        "# 2. Get_* functions"
      ],
      "metadata": {
        "id": "F0M9WiUZxLUp"
      }
    },
    {
      "cell_type": "markdown",
      "source": [
        "Every individual component you see on the above diagram is implemented as a separate class. All of them inherit from the base class called Matplotlib Artist. That’s why you will often read the word on MPL documentation.\n",
        "Having a separate class for every single aspect of a plot introduces a certain level of complexity, but it also gives you a lot of flexibility.\n",
        "The key to a great plot is customization. Not just simple changes to the plot, but customization at the deepest levels. You should be able to tweak every single component of your visuals so that it aligns with your taste, your theme, and professionalism.\n",
        "To achieve this, you should know how to extract the components you want to customize. Fortunately, Matplotlib has many functions that start with get_ prefix, which allows you to retrieve different classes from the created figure or axes. Here is an example:"
      ],
      "metadata": {
        "id": "Reqo0HKtxPj7"
      }
    },
    {
      "cell_type": "code",
      "source": [
        "\n",
        "fig, ax = plt.subplots()"
      ],
      "metadata": {
        "colab": {
          "base_uri": "https://localhost:8080/",
          "height": 435
        },
        "id": "MlV_qd2OxSdr",
        "outputId": "71e597ff-0e11-4c92-d48f-94d9bda6658d"
      },
      "execution_count": 46,
      "outputs": [
        {
          "output_type": "display_data",
          "data": {
            "image/png": "[encoded data removed]",
            "text/plain": [
              "<Figure size 640x480 with 1 Axes>"
            ]
          },
          "metadata": {}
        }
      ]
    },
    {
      "cell_type": "code",
      "source": [
        "[func for func in dir(ax) if func.startswith(\"get\")]"
      ],
      "metadata": {
        "colab": {
          "base_uri": "https://localhost:8080/"
        },
        "id": "cVzoB5S4xdnm",
        "outputId": "7b6408cb-2f79-4e13-f2a5-c9c1e9ead4fd"
      },
      "execution_count": 47,
      "outputs": [
        {
          "output_type": "execute_result",
          "data": {
            "text/plain": [
              "['get_adjustable',\n",
              " 'get_agg_filter',\n",
              " 'get_alpha',\n",
              " 'get_anchor',\n",
              " 'get_animated',\n",
              " 'get_aspect',\n",
              " 'get_autoscale_on',\n",
              " 'get_autoscalex_on',\n",
              " 'get_autoscaley_on',\n",
              " 'get_axes_locator',\n",
              " 'get_axisbelow',\n",
              " 'get_children',\n",
              " 'get_clip_box',\n",
              " 'get_clip_on',\n",
              " 'get_clip_path',\n",
              " 'get_contains',\n",
              " 'get_cursor_data',\n",
              " 'get_data_ratio',\n",
              " 'get_data_ratio_log',\n",
              " 'get_default_bbox_extra_artists',\n",
              " 'get_facecolor',\n",
              " 'get_fc',\n",
              " 'get_figure',\n",
              " 'get_frame_on',\n",
              " 'get_geometry',\n",
              " 'get_gid',\n",
              " 'get_gridspec',\n",
              " 'get_images',\n",
              " 'get_in_layout',\n",
              " 'get_label',\n",
              " 'get_legend',\n",
              " 'get_legend_handles_labels',\n",
              " 'get_lines',\n",
              " 'get_navigate',\n",
              " 'get_navigate_mode',\n",
              " 'get_path_effects',\n",
              " 'get_picker',\n",
              " 'get_position',\n",
              " 'get_rasterization_zorder',\n",
              " 'get_rasterized',\n",
              " 'get_renderer_cache',\n",
              " 'get_shared_x_axes',\n",
              " 'get_shared_y_axes',\n",
              " 'get_sketch_params',\n",
              " 'get_snap',\n",
              " 'get_subplotspec',\n",
              " 'get_tightbbox',\n",
              " 'get_title',\n",
              " 'get_transform',\n",
              " 'get_transformed_clip_path_and_affine',\n",
              " 'get_url',\n",
              " 'get_visible',\n",
              " 'get_window_extent',\n",
              " 'get_xaxis',\n",
              " 'get_xaxis_text1_transform',\n",
              " 'get_xaxis_text2_transform',\n",
              " 'get_xaxis_transform',\n",
              " 'get_xbound',\n",
              " 'get_xgridlines',\n",
              " 'get_xlabel',\n",
              " 'get_xlim',\n",
              " 'get_xmajorticklabels',\n",
              " 'get_xminorticklabels',\n",
              " 'get_xscale',\n",
              " 'get_xticklabels',\n",
              " 'get_xticklines',\n",
              " 'get_xticks',\n",
              " 'get_yaxis',\n",
              " 'get_yaxis_text1_transform',\n",
              " 'get_yaxis_text2_transform',\n",
              " 'get_yaxis_transform',\n",
              " 'get_ybound',\n",
              " 'get_ygridlines',\n",
              " 'get_ylabel',\n",
              " 'get_ylim',\n",
              " 'get_ymajorticklabels',\n",
              " 'get_yminorticklabels',\n",
              " 'get_yscale',\n",
              " 'get_yticklabels',\n",
              " 'get_yticklines',\n",
              " 'get_yticks',\n",
              " 'get_zorder']"
            ]
          },
          "metadata": {},
          "execution_count": 47
        }
      ]
    },
    {
      "cell_type": "markdown",
      "source": [
        "Let’s say you want to customize the xticks of this plot:"
      ],
      "metadata": {
        "id": "J2maKkNOyNat"
      }
    },
    {
      "cell_type": "code",
      "source": [
        "\n",
        "x = np.linspace(0, 2, 100)\n",
        "\n",
        "fig, ax = plt.subplots()  # Create a figure and an axes.\n",
        "\n",
        "l1 = ax.plot(x, x, label=\"linear\")\n",
        "l2 = ax.plot(x, x ** 2, label=\"quadratic\")\n",
        "l3 = ax.plot(x, x ** 3, label=\"cubic\")\n",
        "\n",
        "ax.set_title(\"Simple Plot\")\n",
        "\n",
        "plt.show()"
      ],
      "metadata": {
        "colab": {
          "base_uri": "https://localhost:8080/",
          "height": 452
        },
        "id": "xwSz1yeJyOfh",
        "outputId": "fc86a559-0cde-4a90-b614-85e73cdfb3f2"
      },
      "execution_count": 48,
      "outputs": [
        {
          "output_type": "display_data",
          "data": {
            "image/png": "[encoded data removed]",
            "text/plain": [
              "<Figure size 640x480 with 1 Axes>"
            ]
          },
          "metadata": {}
        }
      ]
    },
    {
      "cell_type": "markdown",
      "source": [
        "It is easy, just call get_xticklabels on the axes object, and you get a list of Matplotlib Text instances:"
      ],
      "metadata": {
        "id": "nsr-9cGUygSD"
      }
    },
    {
      "cell_type": "code",
      "source": [
        "A=ax.get_xticklabels()"
      ],
      "metadata": {
        "id": "bbfCnYzGyepy"
      },
      "execution_count": 49,
      "outputs": []
    },
    {
      "cell_type": "markdown",
      "source": [
        "You can also tweak the tick lines using get_xticklines or the location of the ticks with get_xticks.\n",
        "You might be wondering, how do we actually tweak these objects? We will answer this question in the next section."
      ],
      "metadata": {
        "id": "qwdFjSbDzh5U"
      }
    },
    {
      "cell_type": "markdown",
      "source": [
        "# 3 . getp / setp"
      ],
      "metadata": {
        "id": "oc3sOxR_zkb2"
      }
    },
    {
      "cell_type": "markdown",
      "source": [
        "Once you have the component you want to customize, you should know what properties or parameters they accept. This is where you use two Swiss army knives of Matplotlib.\n",
        "First, call plt.getp function on your object to see what parameters it currently has. For example, let's say we want to style l2 of the below plot:"
      ],
      "metadata": {
        "id": "twJCvegJz4z4"
      }
    },
    {
      "cell_type": "code",
      "source": [
        "x = np.linspace(0, 2, 100)\n",
        "\n",
        "fig, ax = plt.subplots()  # Create a figure and an axes.\n",
        "\n",
        "l1 = ax.plot(x, x, label=\"linear\")\n",
        "l2 = ax.plot(x, x ** 2, label=\"quadratic\")\n",
        "l3 = ax.plot(x, x ** 3, label=\"cubic\")\n",
        "\n",
        "ax.set_title(\"Simple Plot\")\n",
        "\n",
        "plt.show()"
      ],
      "metadata": {
        "colab": {
          "base_uri": "https://localhost:8080/",
          "height": 452
        },
        "id": "nfSCjJ6Xz5gx",
        "outputId": "02d1d29e-a2ab-4ca5-c4bf-9c39d044588a"
      },
      "execution_count": 50,
      "outputs": [
        {
          "output_type": "display_data",
          "data": {
            "image/png": "[encoded data removed]",
            "text/plain": [
              "<Figure size 640x480 with 1 Axes>"
            ]
          },
          "metadata": {}
        }
      ]
    },
    {
      "cell_type": "markdown",
      "source": [
        "As you can see, I stored each line plot into a separate variable to use later. Now, we call plt.getp on the second line l2:"
      ],
      "metadata": {
        "id": "cjYclPlY0Bsv"
      }
    },
    {
      "cell_type": "code",
      "source": [
        "plt.getp(l2)"
      ],
      "metadata": {
        "colab": {
          "base_uri": "https://localhost:8080/"
        },
        "id": "Cog5ScXP0IqD",
        "outputId": "b446286a-b665-4155-d485-848b71fe9be4"
      },
      "execution_count": 51,
      "outputs": [
        {
          "output_type": "stream",
          "name": "stdout",
          "text": [
            "    agg_filter = None\n",
            "    alpha = None\n",
            "    animated = False\n",
            "    antialiased or aa = True\n",
            "    children = []\n",
            "    clip_box = TransformedBbox(     Bbox(x0=0.0, y0=0.0, x1=1.0, ...\n",
            "    clip_on = True\n",
            "    clip_path = None\n",
            "    color or c = #ff7f0e\n",
            "    contains = None\n",
            "    dash_capstyle = butt\n",
            "    dash_joinstyle = round\n",
            "    data = (array([0.        , 0.02020202, 0.04040404, 0.0606...\n",
            "    drawstyle or ds = default\n",
            "    figure = Figure(640x480)\n",
            "    fillstyle = full\n",
            "    gid = None\n",
            "    in_layout = True\n",
            "    label = quadratic\n",
            "    linestyle or ls = -\n",
            "    linewidth or lw = 1.5\n",
            "    marker = None\n",
            "    markeredgecolor or mec = #ff7f0e\n",
            "    markeredgewidth or mew = 1.0\n",
            "    markerfacecolor or mfc = #ff7f0e\n",
            "    markerfacecoloralt or mfcalt = none\n",
            "    markersize or ms = 6.0\n",
            "    markevery = None\n",
            "    path = Path(array([[0.00000000e+00, 0.00000000e+00],     ...\n",
            "    path_effects = []\n",
            "    picker = None\n",
            "    pickradius = 5\n",
            "    rasterized = None\n",
            "    sketch_params = None\n",
            "    snap = None\n",
            "    solid_capstyle = projecting\n",
            "    solid_joinstyle = round\n",
            "    transform = CompositeGenericTransform(     TransformWrapper(  ...\n",
            "    transformed_clip_path_and_affine = (None, None)\n",
            "    url = None\n",
            "    visible = True\n",
            "    xdata = [0.         0.02020202 0.04040404 0.06060606 0.080...\n",
            "    xydata = [[0.         0.        ]  [0.02020202 0.00040812] ...\n",
            "    ydata = [0.         0.00040812 0.00163249 0.00367309 0.006...\n",
            "    zorder = 2\n"
          ]
        }
      ]
    },
    {
      "cell_type": "markdown",
      "source": [
        "As expected, the function printed out the default values of l2. To change a property, we will use another function - plt.setp. Calling this on an object without any parameters prints out what possible values the object accepts for its properties:"
      ],
      "metadata": {
        "id": "RYXgCEk10Rao"
      }
    },
    {
      "cell_type": "code",
      "source": [
        "plt.setp(l2)"
      ],
      "metadata": {
        "colab": {
          "base_uri": "https://localhost:8080/"
        },
        "id": "MaMXrtO90UDH",
        "outputId": "cad0a282-82b2-48b1-bfc6-ff35d3a5f629"
      },
      "execution_count": 52,
      "outputs": [
        {
          "output_type": "stream",
          "name": "stdout",
          "text": [
            "  agg_filter: a filter function, which takes a (m, n, 3) float array and a dpi value, and returns a (m, n, 3) array\n",
            "  alpha: float or None\n",
            "  animated: bool\n",
            "  antialiased or aa: bool\n",
            "  clip_box: `.Bbox`\n",
            "  clip_on: bool\n",
            "  clip_path: Patch or (Path, Transform) or None\n",
            "  color or c: color\n",
            "  contains: callable\n",
            "  dash_capstyle: {'butt', 'round', 'projecting'}\n",
            "  dash_joinstyle: {'miter', 'round', 'bevel'}\n",
            "  dashes: sequence of floats (on/off ink in points) or (None, None)\n",
            "  data: (2, N) array or two 1D arrays\n",
            "  drawstyle or ds: {'default', 'steps', 'steps-pre', 'steps-mid', 'steps-post'}, default: 'default'\n",
            "  figure: `.Figure`\n",
            "  fillstyle: {'full', 'left', 'right', 'bottom', 'top', 'none'}\n",
            "  gid: str\n",
            "  in_layout: bool\n",
            "  label: object\n",
            "  linestyle or ls: {'-', '--', '-.', ':', '', (offset, on-off-seq), ...}\n",
            "  linewidth or lw: float\n",
            "  marker: marker style\n",
            "  markeredgecolor or mec: color\n",
            "  markeredgewidth or mew: float\n",
            "  markerfacecolor or mfc: color\n",
            "  markerfacecoloralt or mfcalt: color\n",
            "  markersize or ms: float\n",
            "  markevery: None or int or (int, int) or slice or List[int] or float or (float, float)\n",
            "  path_effects: `.AbstractPathEffect`\n",
            "  picker: float or callable[[Artist, Event], Tuple[bool, dict]]\n",
            "  pickradius: float\n",
            "  rasterized: bool or None\n",
            "  sketch_params: (scale: float, length: float, randomness: float)\n",
            "  snap: bool or None\n",
            "  solid_capstyle: {'butt', 'round', 'projecting'}\n",
            "  solid_joinstyle: {'miter', 'round', 'bevel'}\n",
            "  transform: `matplotlib.transforms.Transform`\n",
            "  url: str\n",
            "  visible: bool\n",
            "  xdata: 1D array\n",
            "  ydata: 1D array\n",
            "  zorder: float\n"
          ]
        }
      ]
    },
    {
      "cell_type": "markdown",
      "source": [
        "To print possible values for only a single property, you can give the name of the property as a string to setp:"
      ],
      "metadata": {
        "id": "xM_vNQ7V0bEi"
      }
    },
    {
      "cell_type": "code",
      "source": [
        "plt.setp(l2, \"linestyle\")"
      ],
      "metadata": {
        "colab": {
          "base_uri": "https://localhost:8080/"
        },
        "id": "DK5fTTO70cwb",
        "outputId": "2c941ebe-6cb4-40e7-ba8f-5d804745aa6a"
      },
      "execution_count": 53,
      "outputs": [
        {
          "output_type": "stream",
          "name": "stdout",
          "text": [
            "  linestyle: {'-', '--', '-.', ':', '', (offset, on-off-seq), ...}\n"
          ]
        }
      ]
    },
    {
      "cell_type": "code",
      "source": [
        "x = np.linspace(0, 2, 100)\n",
        "\n",
        "fig, ax = plt.subplots()  # Create a figure and an axes.\n",
        "l2 = ax.plot(x, x ** 2, label=\"quadratic\")\n",
        "l1 = ax.plot(x, x, label=\"linear\")\n",
        "l3 = ax.plot(x, x ** 3, label=\"cubic\")\n",
        "plt.setp(l2, linestyle=\"-.\", lw=5,color=\"red\", alpha=0.5)\n",
        "plt.show()"
      ],
      "metadata": {
        "colab": {
          "base_uri": "https://localhost:8080/",
          "height": 430
        },
        "id": "xnm0q7pB0qhg",
        "outputId": "05f8f87a-480e-4f1c-b443-93ef9ce51f83"
      },
      "execution_count": 54,
      "outputs": [
        {
          "output_type": "display_data",
          "data": {
            "image/png": "[encoded data removed]",
            "text/plain": [
              "<Figure size 640x480 with 1 Axes>"
            ]
          },
          "metadata": {}
        }
      ]
    },
    {
      "cell_type": "code",
      "source": [
        "%matplotlib"
      ],
      "metadata": {
        "colab": {
          "base_uri": "https://localhost:8080/"
        },
        "id": "HrAKBGXF1sZ0",
        "outputId": "0b90bfa2-8220-4126-bc54-1ae273e3389b"
      },
      "execution_count": 55,
      "outputs": [
        {
          "output_type": "stream",
          "name": "stdout",
          "text": [
            "Using matplotlib backend: agg\n"
          ]
        }
      ]
    },
    {
      "cell_type": "markdown",
      "source": [
        "To see the current figure after the changes, just call get_figure on the figure object (on the terminal) :"
      ],
      "metadata": {
        "id": "iedl3fgA02zn"
      }
    },
    {
      "cell_type": "code",
      "source": [
        "fig.get_figure()"
      ],
      "metadata": {
        "id": "LETpmJbM01_t"
      },
      "execution_count": 56,
      "outputs": []
    },
    {
      "cell_type": "code",
      "source": [
        ""
      ],
      "metadata": {
        "id": "YU_9g_oC09EI"
      },
      "execution_count": 56,
      "outputs": []
    },
    {
      "cell_type": "markdown",
      "source": [
        "As you can see, the second line is entirely different from the rest.\n",
        "In a nutshell, if you want to style a specific component of your plot, here are the steps you should follow:\n",
        "\n",
        "1.   Identify the name of the element, either by intuition or the documentation of \n",
        "MPL.\n",
        "2. Extract it using its relevant get_* function\n",
        "3. See its current properties with plt.getp\n",
        "4. Find out what possible values each property accepts with plt.setp\n",
        "5. Change the parameters you want with the same function."
      ],
      "metadata": {
        "id": "NBlv1G262Vha"
      }
    },
    {
      "cell_type": "markdown",
      "source": [
        "# 4. Legends"
      ],
      "metadata": {
        "id": "PwQRDl9x2lC9"
      }
    },
    {
      "cell_type": "markdown",
      "source": [
        "A legend is an integral part of complex plots with many different components. A great plot doesn’t leave its audience guessing, and providing accurate and “easy on the eye” information inside a legend is crucial to achieving this.\n",
        "Fortunately, you can control the legends of any plot using only the legend function with plt.legend inside a PyPlot API or ax.legend in OOP API. Calling the function with no parameters creates a legend with defaults:"
      ],
      "metadata": {
        "id": "mXOb-cBa4Tsy"
      }
    },
    {
      "cell_type": "code",
      "source": [
        "x = np.linspace(0, 2, 100)\n",
        "\n",
        "fig, ax = plt.subplots()  # Create a figure and an axes.\n",
        "\n",
        "l1 = ax.plot(x, x, label=\"linear\")\n",
        "l2 = ax.plot(x, x ** 2, label=\"quadratic\")\n",
        "l3 = ax.plot(x, x ** 3, label=\"cubic\")\n",
        "\n",
        "ax.set_title(\"Simple Plot\")\n",
        "\n",
        "ax.legend()\n",
        "\n",
        "plt.show()"
      ],
      "metadata": {
        "colab": {
          "base_uri": "https://localhost:8080/",
          "height": 281
        },
        "id": "i1pW8-_82Wb2",
        "outputId": "d487be6b-f623-411b-efb0-1220060ae6bf"
      },
      "execution_count": 71,
      "outputs": [
        {
          "output_type": "display_data",
          "data": {
            "image/png": "[encoded data removed]",
            "text/plain": [
              "<Figure size 432x288 with 1 Axes>"
            ]
          },
          "metadata": {
            "needs_background": "light"
          }
        }
      ]
    },
    {
      "cell_type": "markdown",
      "source": [
        "However, as I have said, we want to customize every component to make them as beautiful as possible, and we can rarely say so when it comes to Matplotlib defaults.\n",
        "\n",
        "Therefore, I suggest reading the Matplotlib documentation of the legend function (link). However, I'd say the most critical parameters of a legend are these:\n",
        "\n",
        "* loc - location of the legend\n",
        "* bbox_to_anchor - another location parameter, specific to the rounding box of * the legend (read the docs for details)\n",
        "* Font properties — size, color, style\n",
        "* ncol - number of columns inside a legend when there are many elements\n",
        "\n",
        "You can also change these parameters after the legend is created. Simply extract it with get_legend and use the getp, setp functions."
      ],
      "metadata": {
        "id": "uQIsVb934aom"
      }
    },
    {
      "cell_type": "markdown",
      "source": [
        "# 5. Cycler"
      ],
      "metadata": {
        "id": "EMI48xO24vI-"
      }
    },
    {
      "cell_type": "markdown",
      "source": [
        "Do you ever wonder how Matplotlib changes its colors or cycles through different styles all by itself?\n",
        "The reason is that, under the hood, Matplotlib uses Python built-in objects called Cyclers:"
      ],
      "metadata": {
        "id": "AjZJ3aYe4uMu"
      }
    },
    {
      "cell_type": "code",
      "source": [
        "from cycler import cycler\n",
        "\n",
        "c1 = cycler(arg1=[1, 2, 3, 4])\n",
        "c1"
      ],
      "metadata": {
        "colab": {
          "base_uri": "https://localhost:8080/",
          "height": 126
        },
        "id": "BBKtCarp4TAR",
        "outputId": "ee96c398-b7b3-4a20-d935-52e6392b7bb8"
      },
      "execution_count": 58,
      "outputs": [
        {
          "output_type": "execute_result",
          "data": {
            "text/html": [
              "<table><th>'arg1'</th><tr><td>1</td></tr><tr><td>2</td></tr><tr><td>3</td></tr><tr><td>4</td></tr></table>"
            ],
            "text/plain": [
              "cycler('arg1', [1, 2, 3, 4])"
            ]
          },
          "metadata": {},
          "execution_count": 58
        }
      ]
    },
    {
      "cell_type": "markdown",
      "source": [
        "The cycle function is very versatile. It accepts any key-value parameter and creates a list of dictionaries:"
      ],
      "metadata": {
        "id": "P73TQkkP48fS"
      }
    },
    {
      "cell_type": "code",
      "source": [
        "c2 = cycler(arg2=list(\"rgba\"))\n",
        "\n",
        "for i in c2:\n",
        "    print(i)"
      ],
      "metadata": {
        "colab": {
          "base_uri": "https://localhost:8080/"
        },
        "id": "DZUefyWv5BG9",
        "outputId": "92652c7e-de8c-47d6-8916-c5adf6995f9f"
      },
      "execution_count": 59,
      "outputs": [
        {
          "output_type": "stream",
          "name": "stdout",
          "text": [
            "{'arg2': 'r'}\n",
            "{'arg2': 'g'}\n",
            "{'arg2': 'b'}\n",
            "{'arg2': 'a'}\n"
          ]
        }
      ]
    },
    {
      "cell_type": "markdown",
      "source": [
        "Besides, you can combine multiple cyclers with the “plus” and “multiply” operators to get the index-to-index or exhaustive combination of parameters:"
      ],
      "metadata": {
        "id": "WA9_-bgZ5DVV"
      }
    },
    {
      "cell_type": "code",
      "source": [
        "for i in c1 + c2:\n",
        "    print(i)"
      ],
      "metadata": {
        "colab": {
          "base_uri": "https://localhost:8080/"
        },
        "id": "Ku3U2Zf45IIf",
        "outputId": "46dc600c-78da-4de5-f22b-08abb88c341f"
      },
      "execution_count": 60,
      "outputs": [
        {
          "output_type": "stream",
          "name": "stdout",
          "text": [
            "{'arg1': 1, 'arg2': 'r'}\n",
            "{'arg1': 2, 'arg2': 'g'}\n",
            "{'arg1': 3, 'arg2': 'b'}\n",
            "{'arg1': 4, 'arg2': 'a'}\n"
          ]
        }
      ]
    },
    {
      "cell_type": "markdown",
      "source": [
        "Now that we know what cyclers are, we can create custom ones and pass them to our plots so that Matplotlib only cycles through the parameters we specified. Below, we are creating four different line styles that allow Matplotlib to cycle through different line colors, styles, and weights:"
      ],
      "metadata": {
        "id": "5SjcwXxHP49L"
      }
    },
    {
      "cell_type": "code",
      "source": [
        "line_prop_cycler = (\n",
        "    cycler(color=list(\"rgcy\"))\n",
        "    + cycler(ls=[\"-\", \"--\", \"-.\", \":\"])\n",
        "    + cycler(lw=[3, 6, 9, 12])\n",
        ")"
      ],
      "metadata": {
        "id": "_xUQ2x3zP6Ij"
      },
      "execution_count": 62,
      "outputs": []
    },
    {
      "cell_type": "code",
      "source": [
        ""
      ],
      "metadata": {
        "id": "6T10tCE8QWBM"
      },
      "execution_count": 69,
      "outputs": []
    },
    {
      "cell_type": "markdown",
      "source": [
        "You can pass this custom cycler to a plot using the *set_prop_cycle* function of the axes object:"
      ],
      "metadata": {
        "id": "3O5TVXh2Pcnl"
      }
    },
    {
      "cell_type": "code",
      "source": [
        "\n",
        "\n",
        "\n",
        "x = np.linspace(0, 2 * np.pi, 50)\n",
        "offsets = np.linspace(0, 2 * np.pi, 4, endpoint=False)\n",
        "yy = np.transpose([np.sin(x + phi) for phi in offsets])\n",
        "\n",
        "fig, ax = plt.subplots(figsize=(8, 4))\n",
        "\n",
        "ax.set_prop_cycle(line_prop_cycler)  # Set propcycle before plotting\n",
        "ax.plot(x, yy)\n",
        "\n",
        "\n",
        "plt.show();\n",
        "\n"
      ],
      "metadata": {
        "colab": {
          "base_uri": "https://localhost:8080/",
          "height": 265
        },
        "id": "6gJj_HgFPith",
        "outputId": "7f195ce8-0f4d-42d2-ea53-73b98a32ec18"
      },
      "execution_count": 74,
      "outputs": [
        {
          "output_type": "display_data",
          "data": {
            "image/png": "[encoded data removed]",
            "text/plain": [
              "<Figure size 576x288 with 1 Axes>"
            ]
          },
          "metadata": {
            "needs_background": "light"
          }
        }
      ]
    },
    {
      "cell_type": "markdown",
      "source": [
        "As you can see, the lines of the sine waves are entirely different.\n",
        "When creating cyclers, each of their parameters and values must align with Matplotlib. For example, to create a cycler that iterates different colors, you should know what kind of colors Matplotlib allows for its plots.\n",
        "You can also add your custom cyclers to the rcParams dictionary. Here are the defaults:"
      ],
      "metadata": {
        "id": "Oazkh4nWQPZj"
      }
    },
    {
      "cell_type": "code",
      "source": [
        "rcParams[\"axes.prop_cycle\"]"
      ],
      "metadata": {
        "colab": {
          "base_uri": "https://localhost:8080/",
          "height": 254
        },
        "id": "T83PsR2fQRB5",
        "outputId": "6a6d4437-195d-409b-e3b6-82486a2cd39e"
      },
      "execution_count": 66,
      "outputs": [
        {
          "output_type": "execute_result",
          "data": {
            "text/html": [
              "<table><th>'color'</th><tr><td>'#1f77b4'</td></tr><tr><td>'#ff7f0e'</td></tr><tr><td>'#2ca02c'</td></tr><tr><td>'#d62728'</td></tr><tr><td>'#9467bd'</td></tr><tr><td>'#8c564b'</td></tr><tr><td>'#e377c2'</td></tr><tr><td>'#7f7f7f'</td></tr><tr><td>'#bcbd22'</td></tr><tr><td>'#17becf'</td></tr></table>"
            ],
            "text/plain": [
              "cycler('color', ['#1f77b4', '#ff7f0e', '#2ca02c', '#d62728', '#9467bd', '#8c564b', '#e377c2', '#7f7f7f', '#bcbd22', '#17becf'])"
            ]
          },
          "metadata": {},
          "execution_count": 66
        }
      ]
    },
    {
      "cell_type": "markdown",
      "source": [
        "# 6. tick_params"
      ],
      "metadata": {
        "id": "YlCBEJuIQmLv"
      }
    },
    {
      "cell_type": "markdown",
      "source": [
        "All the arguments I presented about legends hold for axis ticks. The axis ticks should accurately convey the min and max of your data points and their units and display several critical checkpoints for easy comparison between different plot parts.\n",
        "Like the legend, most tick properties can be controlled with *tick_params* (https://matplotlib.org/stable/api/_as_gen/matplotlib.axes.Axes.tick_params.html) function of the axes object. Here are a few of them as an example:"
      ],
      "metadata": {
        "id": "3nRnF8uyRJdA"
      }
    },
    {
      "cell_type": "code",
      "source": [
        "print(ax.tick_params())"
      ],
      "metadata": {
        "colab": {
          "base_uri": "https://localhost:8080/"
        },
        "id": "6CYM1qOmRQQS",
        "outputId": "9c6c6aef-8ce4-4db9-f15f-a72e6feeb135"
      },
      "execution_count": 73,
      "outputs": [
        {
          "output_type": "stream",
          "name": "stdout",
          "text": [
            "None\n"
          ]
        }
      ]
    },
    {
      "cell_type": "markdown",
      "source": [
        "\n",
        "Parameters\n",
        "----------\n",
        "axis : {'x', 'y', 'both'}, default: 'both'\n",
        "    The axis to which the parameters are applied.\n",
        "which : {'major', 'minor', 'both'}, default: 'major'\n",
        "    The group of ticks to which the parameters are applied.\n",
        "reset : bool, default: False\n",
        "    Whether to reset the ticks to defaults before updating them.\n",
        "\n",
        "Other Parameters\n",
        "----------------\n",
        "direction : {'in', 'out', 'inout'}\n",
        "    Puts ticks inside the axes, outside the axes, or both.\n",
        "length : float\n",
        "    Tick length in points.\n",
        "width : float\n",
        "    Tick width in points.\n",
        "color : color\n",
        "    Tick color."
      ],
      "metadata": {
        "id": "mGRo0-mGRobM"
      }
    },
    {
      "cell_type": "code",
      "source": [
        ""
      ],
      "metadata": {
        "id": "HeH909W1RpEM"
      },
      "execution_count": null,
      "outputs": []
    },
    {
      "cell_type": "markdown",
      "source": [
        "The first couple of parameters you should always specify is axis and which. Depending on these, the parameters you set will apply to the X or Y axis ticks and either to minor or major ticks.\n",
        "BTW, most of the time, minor ticks will not be visible in Matplotlib. To quickly turn them on, use the minorticks_on function on the axes object:"
      ],
      "metadata": {
        "id": "VgmQxRbtRqHV"
      }
    },
    {
      "cell_type": "code",
      "source": [
        "fig, ax = plt.subplots(figsize=(3, 2))"
      ],
      "metadata": {
        "id": "ikphftSvRrXe"
      },
      "execution_count": null,
      "outputs": []
    },
    {
      "cell_type": "markdown",
      "source": [
        "Here is a great resource that shows more about the tick_params function.\n",
        "\n",
        "https://e2eml.school/matplotlib_ticks.html"
      ],
      "metadata": {
        "id": "AKzAyqYpRta1"
      }
    },
    {
      "cell_type": "code",
      "source": [
        ""
      ],
      "metadata": {
        "id": "qSJm7JutRv03"
      },
      "execution_count": null,
      "outputs": []
    },
    {
      "cell_type": "markdown",
      "source": [
        "# 7️⃣. Tickers  "
      ],
      "metadata": {
        "id": "YOMeZ3HQRxfh"
      }
    },
    {
      "cell_type": "markdown",
      "source": [
        "Sometimes, you don’t want to go to the trouble of giving custom tick parameters. In that case, you can use many of the built-in Matplotlib’s collection of tick parameter “themes” called tickers.\n"
      ],
      "metadata": {
        "id": "A2R89aePR0TO"
      }
    },
    {
      "cell_type": "code",
      "source": [
        "from matplotlib import ticker\n",
        "dir(ticker)"
      ],
      "metadata": {
        "colab": {
          "base_uri": "https://localhost:8080/"
        },
        "id": "Tg6peeXGR3J_",
        "outputId": "aee8a2b0-88ce-461f-b17c-3327cf18ad7f"
      },
      "execution_count": 75,
      "outputs": [
        {
          "output_type": "execute_result",
          "data": {
            "text/plain": [
              "['AutoLocator',\n",
              " 'AutoMinorLocator',\n",
              " 'EngFormatter',\n",
              " 'FixedFormatter',\n",
              " 'FixedLocator',\n",
              " 'FormatStrFormatter',\n",
              " 'Formatter',\n",
              " 'FuncFormatter',\n",
              " 'IndexFormatter',\n",
              " 'IndexLocator',\n",
              " 'LinearLocator',\n",
              " 'Locator',\n",
              " 'LogFormatter',\n",
              " 'LogFormatterExponent',\n",
              " 'LogFormatterMathtext',\n",
              " 'LogFormatterSciNotation',\n",
              " 'LogLocator',\n",
              " 'LogitFormatter',\n",
              " 'LogitLocator',\n",
              " 'MaxNLocator',\n",
              " 'MultipleLocator',\n",
              " 'NullFormatter',\n",
              " 'NullLocator',\n",
              " 'OldAutoLocator',\n",
              " 'OldScalarFormatter',\n",
              " 'PercentFormatter',\n",
              " 'ScalarFormatter',\n",
              " 'StrMethodFormatter',\n",
              " 'SymmetricalLogLocator',\n",
              " 'TickHelper',\n",
              " '_DummyAxis',\n",
              " '_Edge_integer',\n",
              " '__all__',\n",
              " '__builtins__',\n",
              " '__cached__',\n",
              " '__doc__',\n",
              " '__file__',\n",
              " '__loader__',\n",
              " '__name__',\n",
              " '__package__',\n",
              " '__spec__',\n",
              " '_decade_greater',\n",
              " '_decade_greater_equal',\n",
              " '_decade_less',\n",
              " '_decade_less_equal',\n",
              " '_log',\n",
              " 'cbook',\n",
              " 'decade_down',\n",
              " 'decade_up',\n",
              " 'is_close_to_int',\n",
              " 'is_decade',\n",
              " 'itertools',\n",
              " 'locale',\n",
              " 'logging',\n",
              " 'math',\n",
              " 'mtransforms',\n",
              " 'np',\n",
              " 'rcParams',\n",
              " 'scale_range']"
            ]
          },
          "metadata": {},
          "execution_count": 75
        }
      ]
    },
    {
      "cell_type": "markdown",
      "source": [
        "As you can see, there are many of them under the ticker submodule. I suggest going through a few of them using the docs to get an idea of what each of them does.\n",
        "Generally, the ones with Locator in their titles control the location of the ticks. Formatters let you style the tick labels. Mostly, you will use a pair of locators and formatters based on your needs. Once you choose from the above list, you can pass them to your plot with:"
      ],
      "metadata": {
        "id": "E2S7IyeiR8T2"
      }
    },
    {
      "cell_type": "code",
      "source": [
        "from matplotlib.ticker import EngFormatter\n",
        "ax.xaxis.set_major_formatter(EngFormatter())"
      ],
      "metadata": {
        "id": "RvW7Lm_NR9xo"
      },
      "execution_count": 76,
      "outputs": []
    },
    {
      "cell_type": "code",
      "source": [
        ""
      ],
      "metadata": {
        "id": "1dMiIm7FSCwl"
      },
      "execution_count": null,
      "outputs": []
    },
    {
      "cell_type": "markdown",
      "source": [
        "Use either xaxis or yaxis properties of the axes object and call set_major(minor)_formatter(locator) functions, passing in the class name. Above, we are formatting the X-Axis ticks using the Engineering notation."
      ],
      "metadata": {
        "id": "gVBTNjsRSC99"
      }
    },
    {
      "cell_type": "markdown",
      "source": [
        "# 8️⃣. Adding custom grids"
      ],
      "metadata": {
        "id": "7GvgHLCnSEK3"
      }
    },
    {
      "cell_type": "markdown",
      "source": [
        ""
      ],
      "metadata": {
        "id": "QdrzyMWySGqk"
      }
    },
    {
      "cell_type": "markdown",
      "source": [
        "One of the subtlest and yet, most impactful elements of some plots are gridlines.\n",
        "A rule of thumb is to create grids when the horizontal and vertical changes in your plots would convey additional meaning to the context. For example, horizontal grids are helpful when there are many bars in a plot.\n",
        "In Matplotlib, you can create and customize the grids using the grid function of the axes object. Here is an ugly vertical grid as an example:"
      ],
      "metadata": {
        "id": "kDYJhmSRSJwg"
      }
    },
    {
      "cell_type": "code",
      "source": [
        "fig, ax = plt.subplots()\n",
        "\n",
        "ax.grid(axis=\"x\", linestyle=\":\", lw=3, color=\"r\")"
      ],
      "metadata": {
        "colab": {
          "base_uri": "https://localhost:8080/",
          "height": 269
        },
        "id": "SuBQYc4dSLVi",
        "outputId": "455acb34-1b09-4cc2-accc-ef9abfcfe20b"
      },
      "execution_count": 77,
      "outputs": [
        {
          "output_type": "display_data",
          "data": {
            "image/png": "[encoded data removed]",
            "text/plain": [
              "<Figure size 432x288 with 1 Axes>"
            ]
          },
          "metadata": {
            "needs_background": "light"
          }
        }
      ]
    },
    {
      "cell_type": "markdown",
      "source": [
        "I suggest you read the docs for details.\n",
        "\n",
        "https://matplotlib.org/stable/api/_as_gen/matplotlib.pyplot.grid.html"
      ],
      "metadata": {
        "id": "ZlHxIJlwSO62"
      }
    },
    {
      "cell_type": "code",
      "source": [
        ""
      ],
      "metadata": {
        "id": "mU3_2kCRSQx_"
      },
      "execution_count": null,
      "outputs": []
    },
    {
      "cell_type": "markdown",
      "source": [
        "# 9️⃣. plt.bar_label()"
      ],
      "metadata": {
        "id": "xe8ac0xPSSe_"
      }
    },
    {
      "cell_type": "markdown",
      "source": [
        "Bar charts are common during data analysis. Their most important aspect is the height of each bar, so you need to make it easy for your audience to differentiate between each bar. This is where you need to use bar labels.\n",
        "You can do it manually using some arithmetic calculations to place a text annotation above each bar, but there is a better way. The bar_label function accepts a BarContainer object as a parameter and automatically annotates each bar with its height.\n",
        "Here is a simple countplot with Seaborn:"
      ],
      "metadata": {
        "id": "m7tzHgTKSU_H"
      }
    },
    {
      "cell_type": "code",
      "source": [
        "import seaborn as sns\n",
        "\n",
        "diamonds = sns.load_dataset(\"diamonds\")\n",
        "\n",
        "ax = sns.countplot(diamonds[\"cut\"])"
      ],
      "metadata": {
        "colab": {
          "base_uri": "https://localhost:8080/",
          "height": 334
        },
        "id": "EWcYha1zSXmM",
        "outputId": "019d846c-c20b-471f-f263-40b1e6853446"
      },
      "execution_count": 78,
      "outputs": [
        {
          "output_type": "stream",
          "name": "stderr",
          "text": [
            "/usr/local/lib/python3.7/dist-packages/seaborn/_decorators.py:43: FutureWarning: Pass the following variable as a keyword arg: x. From version 0.12, the only valid positional argument will be `data`, and passing other arguments without an explicit keyword will result in an error or misinterpretation.\n",
            "  FutureWarning\n"
          ]
        },
        {
          "output_type": "display_data",
          "data": {
            "image/png": "[encoded data removed]",
            "text/plain": [
              "<Figure size 432x288 with 1 Axes>"
            ]
          },
          "metadata": {
            "needs_background": "light"
          }
        }
      ]
    },
    {
      "cell_type": "markdown",
      "source": [
        "The BarContainer object gets added to a plot every time you create a barplot using Seaborn or using functions like ax.bar. Then, you can retrieve this container object using the containers attribute of the axes object:"
      ],
      "metadata": {
        "id": "ht18BF75Sc5r"
      }
    },
    {
      "cell_type": "code",
      "source": [
        "ax.containers\n"
      ],
      "metadata": {
        "colab": {
          "base_uri": "https://localhost:8080/"
        },
        "id": "R9Syq88cSeJE",
        "outputId": "b94f12ac-cadc-4f1c-c5ba-37b2fea08dff"
      },
      "execution_count": 80,
      "outputs": [
        {
          "output_type": "execute_result",
          "data": {
            "text/plain": [
              "[<BarContainer object of 5 artists>]"
            ]
          },
          "metadata": {},
          "execution_count": 80
        }
      ]
    },
    {
      "cell_type": "code",
      "source": [
        "ax.containers[0]"
      ],
      "metadata": {
        "colab": {
          "base_uri": "https://localhost:8080/"
        },
        "id": "KH9oHwbcTlo9",
        "outputId": "02be4a02-77a7-4ee0-e180-17a4f5a7f57f"
      },
      "execution_count": 88,
      "outputs": [
        {
          "output_type": "execute_result",
          "data": {
            "text/plain": [
              "<BarContainer object of 5 artists>"
            ]
          },
          "metadata": {},
          "execution_count": 88
        }
      ]
    },
    {
      "cell_type": "markdown",
      "source": [
        "As you can see, there is a BarContainer object with 5 bars in the above list. Now, we just pass this object to *bar_label* after creating the plot:"
      ],
      "metadata": {
        "id": "45uYuw8xSzp1"
      }
    },
    {
      "cell_type": "code",
      "source": [
        "\n",
        "ax = sns.countplot(diamonds[\"cut\"])\n",
        "ax.bar_label(ax.containers[0], padding=1)\n",
        "ax.set_ylim(0, 25000)\n",
        "plt.show();"
      ],
      "metadata": {
        "colab": {
          "base_uri": "https://localhost:8080/",
          "height": 552
        },
        "id": "PiblV7lrS1O5",
        "outputId": "63bb6b69-871f-41de-d804-01bba3a46613"
      },
      "execution_count": 92,
      "outputs": [
        {
          "output_type": "stream",
          "name": "stderr",
          "text": [
            "/usr/local/lib/python3.7/dist-packages/seaborn/_decorators.py:43: FutureWarning: Pass the following variable as a keyword arg: x. From version 0.12, the only valid positional argument will be `data`, and passing other arguments without an explicit keyword will result in an error or misinterpretation.\n",
            "  FutureWarning\n"
          ]
        },
        {
          "output_type": "error",
          "ename": "AttributeError",
          "evalue": "ignored",
          "traceback": [
            "\u001b[0;31m---------------------------------------------------------------------------\u001b[0m",
            "\u001b[0;31mAttributeError\u001b[0m                            Traceback (most recent call last)",
            "\u001b[0;32m<ipython-input-92-da0adea92cd1>\u001b[0m in \u001b[0;36m<module>\u001b[0;34m()\u001b[0m\n\u001b[1;32m      1\u001b[0m \u001b[0;34m\u001b[0m\u001b[0m\n\u001b[1;32m      2\u001b[0m \u001b[0max\u001b[0m \u001b[0;34m=\u001b[0m \u001b[0msns\u001b[0m\u001b[0;34m.\u001b[0m\u001b[0mcountplot\u001b[0m\u001b[0;34m(\u001b[0m\u001b[0mdiamonds\u001b[0m\u001b[0;34m[\u001b[0m\u001b[0;34m\"cut\"\u001b[0m\u001b[0;34m]\u001b[0m\u001b[0;34m)\u001b[0m\u001b[0;34m\u001b[0m\u001b[0;34m\u001b[0m\u001b[0m\n\u001b[0;32m----> 3\u001b[0;31m \u001b[0max\u001b[0m\u001b[0;34m.\u001b[0m\u001b[0mbar_label\u001b[0m\u001b[0;34m(\u001b[0m\u001b[0max\u001b[0m\u001b[0;34m.\u001b[0m\u001b[0mcontainers\u001b[0m\u001b[0;34m[\u001b[0m\u001b[0;36m0\u001b[0m\u001b[0;34m]\u001b[0m\u001b[0;34m,\u001b[0m \u001b[0mpadding\u001b[0m\u001b[0;34m=\u001b[0m\u001b[0;36m1\u001b[0m\u001b[0;34m)\u001b[0m\u001b[0;34m\u001b[0m\u001b[0;34m\u001b[0m\u001b[0m\n\u001b[0m\u001b[1;32m      4\u001b[0m \u001b[0max\u001b[0m\u001b[0;34m.\u001b[0m\u001b[0mset_ylim\u001b[0m\u001b[0;34m(\u001b[0m\u001b[0;36m0\u001b[0m\u001b[0;34m,\u001b[0m \u001b[0;36m25000\u001b[0m\u001b[0;34m)\u001b[0m\u001b[0;34m\u001b[0m\u001b[0;34m\u001b[0m\u001b[0m\n\u001b[1;32m      5\u001b[0m \u001b[0mplt\u001b[0m\u001b[0;34m.\u001b[0m\u001b[0mshow\u001b[0m\u001b[0;34m(\u001b[0m\u001b[0;34m)\u001b[0m\u001b[0;34m;\u001b[0m\u001b[0;34m\u001b[0m\u001b[0;34m\u001b[0m\u001b[0m\n",
            "\u001b[0;31mAttributeError\u001b[0m: 'AxesSubplot' object has no attribute 'bar_label'"
          ]
        },
        {
          "output_type": "display_data",
          "data": {
            "image/png": "[encoded data removed]",
            "text/plain": [
              "<Figure size 432x288 with 1 Axes>"
            ]
          },
          "metadata": {
            "needs_background": "light"
          }
        }
      ]
    },
    {
      "cell_type": "code",
      "source": [
        "!pip install matplotlib --upgrade\n"
      ],
      "metadata": {
        "colab": {
          "base_uri": "https://localhost:8080/",
          "height": 592
        },
        "id": "cR0_JiLUTz6k",
        "outputId": "26e66938-45d3-464c-fc9f-3f240794eb55"
      },
      "execution_count": 90,
      "outputs": [
        {
          "output_type": "stream",
          "name": "stdout",
          "text": [
            "Requirement already satisfied: matplotlib in /usr/local/lib/python3.7/dist-packages (3.2.2)\n",
            "Collecting matplotlib\n",
            "  Downloading matplotlib-3.5.0-cp37-cp37m-manylinux_2_5_x86_64.manylinux1_x86_64.whl (11.2 MB)\n",
            "\u001b[K     |████████████████████████████████| 11.2 MB 5.2 MB/s \n",
            "\u001b[?25hRequirement already satisfied: numpy>=1.17 in /usr/local/lib/python3.7/dist-packages (from matplotlib) (1.19.5)\n",
            "Requirement already satisfied: packaging>=20.0 in /usr/local/lib/python3.7/dist-packages (from matplotlib) (21.3)\n",
            "Collecting fonttools>=4.22.0\n",
            "  Downloading fonttools-4.28.3-py3-none-any.whl (884 kB)\n",
            "\u001b[K     |████████████████████████████████| 884 kB 41.8 MB/s \n",
            "\u001b[?25hRequirement already satisfied: pyparsing>=2.2.1 in /usr/local/lib/python3.7/dist-packages (from matplotlib) (3.0.6)\n",
            "Collecting setuptools-scm>=4\n",
            "  Downloading setuptools_scm-6.3.2-py3-none-any.whl (33 kB)\n",
            "Requirement already satisfied: cycler>=0.10 in /usr/local/lib/python3.7/dist-packages (from matplotlib) (0.11.0)\n",
            "Requirement already satisfied: pillow>=6.2.0 in /usr/local/lib/python3.7/dist-packages (from matplotlib) (7.1.2)\n",
            "Requirement already satisfied: python-dateutil>=2.7 in /usr/local/lib/python3.7/dist-packages (from matplotlib) (2.8.2)\n",
            "Requirement already satisfied: kiwisolver>=1.0.1 in /usr/local/lib/python3.7/dist-packages (from matplotlib) (1.3.2)\n",
            "Requirement already satisfied: six>=1.5 in /usr/local/lib/python3.7/dist-packages (from python-dateutil>=2.7->matplotlib) (1.15.0)\n",
            "Requirement already satisfied: setuptools in /usr/local/lib/python3.7/dist-packages (from setuptools-scm>=4->matplotlib) (57.4.0)\n",
            "Requirement already satisfied: tomli>=1.0.0 in /usr/local/lib/python3.7/dist-packages (from setuptools-scm>=4->matplotlib) (1.2.2)\n",
            "Installing collected packages: setuptools-scm, fonttools, matplotlib\n",
            "  Attempting uninstall: matplotlib\n",
            "    Found existing installation: matplotlib 3.2.2\n",
            "    Uninstalling matplotlib-3.2.2:\n",
            "      Successfully uninstalled matplotlib-3.2.2\n",
            "\u001b[31mERROR: pip's dependency resolver does not currently take into account all the packages that are installed. This behaviour is the source of the following dependency conflicts.\n",
            "albumentations 0.1.12 requires imgaug<0.2.7,>=0.2.5, but you have imgaug 0.2.9 which is incompatible.\u001b[0m\n",
            "Successfully installed fonttools-4.28.3 matplotlib-3.5.0 setuptools-scm-6.3.2\n"
          ]
        },
        {
          "output_type": "display_data",
          "data": {
            "application/vnd.colab-display-data+json": {
              "pip_warning": {
                "packages": [
                  "matplotlib",
                  "mpl_toolkits"
                ]
              }
            }
          },
          "metadata": {}
        }
      ]
    },
    {
      "cell_type": "markdown",
      "source": [
        "Note that you need to fix the axis limits when the bar labels get cramped."
      ],
      "metadata": {
        "id": "o4lAyvrSS-Yk"
      }
    },
    {
      "cell_type": "markdown",
      "source": [
        "# 1️⃣0️⃣. zorder"
      ],
      "metadata": {
        "id": "L3t16Q7oUAE-"
      }
    },
    {
      "cell_type": "markdown",
      "source": [
        "Finally, we have another subtle aspect of plots — order of display. This is an important concept when you are overlaying different plots. You need to make sure that each plot gets drawn on the canvas in proper order. To achieve this, you need the zorder parameter.\n",
        "Below, we are creating three lines (taken from the docs) with different zorders:"
      ],
      "metadata": {
        "id": "y5O61tv8UEDw"
      }
    },
    {
      "cell_type": "code",
      "source": [
        "x = np.linspace(0, 7.5, 100)\n",
        "\n",
        "plt.plot(x, np.sin(x), label=\"zorder=2\", zorder=2)  # bottom\n",
        "plt.plot(x, np.sin(x + 0.5), label=\"zorder=3\", zorder=3)\n",
        "plt.axhline(0, label=\"zorder=2.5\", color=\"lightgrey\", zorder=2.5)\n",
        "\n",
        "plt.title(\"Custom order of elements\")\n",
        "\n",
        "l = plt.legend(loc=\"upper right\")\n",
        "l.set_zorder(2.5)  # legend between blue and orange line\n",
        "\n",
        "plt.show()"
      ],
      "metadata": {
        "colab": {
          "base_uri": "https://localhost:8080/",
          "height": 281
        },
        "id": "h4WUUhisUHG7",
        "outputId": "2f64935b-6743-45d9-e6f9-410f4f8a3322"
      },
      "execution_count": 93,
      "outputs": [
        {
          "output_type": "display_data",
          "data": {
            "image/png": "[encoded data removed]",
            "text/plain": [
              "<Figure size 432x288 with 1 Axes>"
            ]
          },
          "metadata": {
            "needs_background": "light"
          }
        }
      ]
    },
    {
      "cell_type": "code",
      "source": [
        ""
      ],
      "metadata": {
        "id": "QsKUaDKoUNkN"
      },
      "execution_count": null,
      "outputs": []
    },
    {
      "cell_type": "markdown",
      "source": [
        "The effect is clearly visible. If you pay attention, the zorder of the legend is specified using the set_zorder function, which is also acceptable. Besides, you can change zorder of any object using the previous plt.setp function as well.\n"
      ],
      "metadata": {
        "id": "pg99I5XkUNvF"
      }
    }
  ]
}