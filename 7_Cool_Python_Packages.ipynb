{
  "nbformat": 4,
  "nbformat_minor": 0,
  "metadata": {
    "colab": {
      "name": "7_Cool_Python_Packages.ipynb",
      "provenance": [],
      "collapsed_sections": [],
      "authorship_tag": "ABX9TyOERdj5tqCBPjAGFe37DH42",
      "include_colab_link": true
    },
    "kernelspec": {
      "name": "python3",
      "display_name": "Python 3"
    },
    "language_info": {
      "name": "python"
    }
  },
  "cells": [
    {
      "cell_type": "markdown",
      "metadata": {
        "id": "view-in-github",
        "colab_type": "text"
      },
      "source": [
        "<a href=\"https://colab.research.google.com/github/fauk74/Data-Visualization-and-Utility/blob/main/7_Cool_Python_Packages.ipynb\" target=\"_parent\"><img src=\"https://colab.research.google.com/assets/colab-badge.svg\" alt=\"Open In Colab\"/></a>"
      ]
    },
    {
      "cell_type": "markdown",
      "source": [
        "# 7 Cool Python Packages Kagglers Are Using Without Telling You"
      ],
      "metadata": {
        "id": "Dz28ySWtpWk6"
      }
    },
    {
      "cell_type": "code",
      "source": [
        ""
      ],
      "metadata": {
        "id": "qL6ZZzC4pa4f"
      },
      "execution_count": null,
      "outputs": []
    },
    {
      "cell_type": "markdown",
      "source": [
        "Kaggle is a hot spot for what is trending in data science and machine learning.\n",
        "Due to its competitiveness, the top players are constantly looking for new tools, technologies, and frameworks that give them an edge over others. If a new package or an algorithm delivers actionable value, there is a good chance it receives immediate adoption and becomes popular.\n",
        "This post is about 7 of such trendies packages that are direct replacements for many tools and technologies that are either outdated or need urgent upgrades."
      ],
      "metadata": {
        "id": "_Q5dQXqEpcV9"
      }
    },
    {
      "cell_type": "code",
      "source": [
        ""
      ],
      "metadata": {
        "id": "K0To6Rw2pc2e"
      },
      "execution_count": null,
      "outputs": []
    },
    {
      "cell_type": "markdown",
      "source": [
        "# 1️⃣. UMAP"
      ],
      "metadata": {
        "id": "r0HRVjyipdyy"
      }
    },
    {
      "cell_type": "markdown",
      "source": [
        "Above is a 100k row dataset with 75 features projected to 2D using a package called UMAP. Each dot represents a single sample in a classification problem and is color-encoded based on their class.\n",
        "Massive datasets like these can make you miserable during EDA, mainly because of the computation and time expenses they come with. So, it is important that each plot you create is spot-on and reveals something significant about the data.\n",
        "I think that’s one of the reasons why UMAP (Uniform Manifold Approximation and Projection) is so well-received on Kaggle. It is efficient, low-code, and lets you take a real “look” at the data from a high-dimensional perspective:\n",
        "\n",
        "\n",
        "\n",
        "When I look at plots like these, they remind me of why I got into data science in the first place — data is beautiful!\n",
        "🛠 GitHub and documentation\n",
        "https://umap-learn.readthedocs.io/en/latest/\n",
        "https://github.com/lmcinnes/umap\n",
        "🔬 Papers\n",
        "UMAP: Uniform Manifold Approximation and Projection for Dimension Reduction\n",
        "💻 Demo\n",
        "UMAP offers an easy, Sklearn-compatible API. After importing the UMAP module, call its fit on the feature and target arrays (X, y) to project them to 2D by default:"
      ],
      "metadata": {
        "id": "TSzGsb2TpkIf"
      }
    },
    {
      "cell_type": "code",
      "source": [
        "\n",
        "import umap  # pip install umap-learn\n",
        "\n",
        "# Create the mapper\n",
        "mapper = umap.UMAP()\n",
        "# Fit to the data\n",
        "mapper.fit(X, y)\n",
        "\n",
        "# Plot as a scatterplot\n",
        "umap.plot.points(mapper)"
      ],
      "metadata": {
        "id": "yPsHTHqdp15e"
      },
      "execution_count": null,
      "outputs": []
    },
    {
      "cell_type": "markdown",
      "source": [
        "# 2️⃣. Datatable"
      ],
      "metadata": {
        "id": "bCFCM0FJqAnQ"
      }
    },
    {
      "cell_type": "markdown",
      "source": [
        "As dataset sizes are getting bigger, people are paying more attention to out-of-memory, multi-threaded data preprocessing tools to escape the performance limitations of Pandas.\n",
        "One of the most promising tools in this regard is datatable, inspired by R's data.table package. It is developed by H2O.ai to support parallel-computing and out-of-memory operations on big data (up to 100 GB), as required by today's machine learning applications.\n",
        "While datatable does not have as large a suite of manipulation functions as pandas, it is found to heavily outperform it on most common operations. In an experiment done on a 100M row dataset, datatable manages to read the data into memory in just over a minute, 9 times faster than pandas.\n",
        "\n",
        "🛠 GitHub and documentation\n",
        "https://github.com/h2oai/datatable\n",
        "https://datatable.readthedocs.io/en/latest/?badge=latest\n",
        "💻 Demo\n",
        "The main data structure in datatable is Frame (as in DataFrame)."
      ],
      "metadata": {
        "id": "4i4V0TvAp_QB"
      }
    },
    {
      "cell_type": "code",
      "source": [
        "\n",
        "import datatable as dt  # pip install datatable\n",
        "\n",
        "frame = dt.fread(\"data/station_day.csv\")\n",
        "frame.head(5)"
      ],
      "metadata": {
        "id": "sQIg-yuJp6WT"
      },
      "execution_count": null,
      "outputs": []
    },
    {
      "cell_type": "code",
      "source": [
        "type(frame)"
      ],
      "metadata": {
        "id": "spC5b379qJTf"
      },
      "execution_count": null,
      "outputs": []
    },
    {
      "cell_type": "code",
      "source": [
        "from datatable import by, f, sum\n",
        "\n",
        "tips = sns.load_dataset(\"tips\")\n",
        "frame = dt.Frame(tips)\n",
        "frame[:, sum(f.total_bill), by(f.size)]"
      ],
      "metadata": {
        "id": "HZJwHstIqLV6"
      },
      "execution_count": null,
      "outputs": []
    },
    {
      "cell_type": "markdown",
      "source": [
        "# 3️⃣. Lazypredict"
      ],
      "metadata": {
        "id": "H-AlYE_aqNqH"
      }
    },
    {
      "cell_type": "markdown",
      "source": [
        "Lazypredict is one of the best one-liner packages I have ever seen.\n",
        "Using the library, you can train almost all Sklearn models plus XGBoost and LightGBM in a single line of code. It only has two estimators — one for regression and one for classification. Fitting either one on a dataset with a given target will evaluate more than 30 base models and generate a report with their rankings on several popular metrics.\n",
        "💻 Demo\n"
      ],
      "metadata": {
        "id": "qlj4Rbw0qRG4"
      }
    },
    {
      "cell_type": "code",
      "source": [
        "!pip install lazypredict\n",
        "from lazypredict.Supervised import (  # pip install lazypredict\n",
        "    LazyClassifier,\n",
        "    LazyRegressor,\n",
        ")\n",
        "from sklearn.datasets import load_boston\n",
        "from sklearn.model_selection import train_test_split\n",
        "\n",
        "# Load data and split\n",
        "X, y = load_boston(return_X_y=True)\n",
        "X_train, X_test, y_train, y_test = train_test_split(X, y, test_size=0.2)\n",
        "\n",
        "# Fit LazyRegressor\n",
        "reg = LazyRegressor(\n",
        "    ignore_warnings=True, random_state=1121218, verbose=False\n",
        "  )\n",
        "models, predictions = reg.fit(X_train, X_test, y_train, y_test)  # pass all sets\n",
        "\n"
      ],
      "metadata": {
        "colab": {
          "base_uri": "https://localhost:8080/",
          "height": 1000
        },
        "id": "8Wl9SEmIqSd9",
        "outputId": "6cdf8709-2acf-4931-e857-56ea0ad82b7e"
      },
      "execution_count": 3,
      "outputs": [
        {
          "output_type": "stream",
          "name": "stdout",
          "text": [
            "Collecting lazypredict\n",
            "  Downloading lazypredict-0.2.9-py2.py3-none-any.whl (12 kB)\n",
            "Requirement already satisfied: click==7.1.2 in /usr/local/lib/python3.7/dist-packages (from lazypredict) (7.1.2)\n",
            "Collecting scikit-learn==0.23.1\n",
            "  Downloading scikit_learn-0.23.1-cp37-cp37m-manylinux1_x86_64.whl (6.8 MB)\n",
            "\u001b[K     |████████████████████████████████| 6.8 MB 5.5 MB/s \n",
            "\u001b[?25hCollecting pandas==1.0.5\n",
            "  Downloading pandas-1.0.5-cp37-cp37m-manylinux1_x86_64.whl (10.1 MB)\n",
            "\u001b[K     |████████████████████████████████| 10.1 MB 20.9 MB/s \n",
            "\u001b[?25hCollecting tqdm==4.56.0\n",
            "  Downloading tqdm-4.56.0-py2.py3-none-any.whl (72 kB)\n",
            "\u001b[K     |████████████████████████████████| 72 kB 902 kB/s \n",
            "\u001b[?25hCollecting joblib==1.0.0\n",
            "  Downloading joblib-1.0.0-py3-none-any.whl (302 kB)\n",
            "\u001b[K     |████████████████████████████████| 302 kB 58.1 MB/s \n",
            "\u001b[?25hCollecting PyYAML==5.3.1\n",
            "  Downloading PyYAML-5.3.1.tar.gz (269 kB)\n",
            "\u001b[K     |████████████████████████████████| 269 kB 59.7 MB/s \n",
            "\u001b[?25hRequirement already satisfied: six==1.15.0 in /usr/local/lib/python3.7/dist-packages (from lazypredict) (1.15.0)\n",
            "Collecting numpy==1.19.1\n",
            "  Downloading numpy-1.19.1-cp37-cp37m-manylinux2010_x86_64.whl (14.5 MB)\n",
            "\u001b[K     |████████████████████████████████| 14.5 MB 15.0 MB/s \n",
            "\u001b[?25hCollecting scipy==1.5.4\n",
            "  Downloading scipy-1.5.4-cp37-cp37m-manylinux1_x86_64.whl (25.9 MB)\n",
            "\u001b[K     |████████████████████████████████| 25.9 MB 1.6 MB/s \n",
            "\u001b[?25hCollecting pytest==5.4.3\n",
            "  Downloading pytest-5.4.3-py3-none-any.whl (248 kB)\n",
            "\u001b[K     |████████████████████████████████| 248 kB 55.1 MB/s \n",
            "\u001b[?25hCollecting lightgbm==2.3.1\n",
            "  Downloading lightgbm-2.3.1-py2.py3-none-manylinux1_x86_64.whl (1.2 MB)\n",
            "\u001b[K     |████████████████████████████████| 1.2 MB 44.5 MB/s \n",
            "\u001b[?25hCollecting xgboost==1.1.1\n",
            "  Downloading xgboost-1.1.1-py3-none-manylinux2010_x86_64.whl (127.6 MB)\n",
            "\u001b[K     |████████████████████████████████| 127.6 MB 25 kB/s \n",
            "\u001b[?25hRequirement already satisfied: pytz>=2017.2 in /usr/local/lib/python3.7/dist-packages (from pandas==1.0.5->lazypredict) (2018.9)\n",
            "Requirement already satisfied: python-dateutil>=2.6.1 in /usr/local/lib/python3.7/dist-packages (from pandas==1.0.5->lazypredict) (2.8.2)\n",
            "Requirement already satisfied: packaging in /usr/local/lib/python3.7/dist-packages (from pytest==5.4.3->lazypredict) (21.3)\n",
            "Collecting pluggy<1.0,>=0.12\n",
            "  Downloading pluggy-0.13.1-py2.py3-none-any.whl (18 kB)\n",
            "Requirement already satisfied: more-itertools>=4.0.0 in /usr/local/lib/python3.7/dist-packages (from pytest==5.4.3->lazypredict) (8.12.0)\n",
            "Requirement already satisfied: py>=1.5.0 in /usr/local/lib/python3.7/dist-packages (from pytest==5.4.3->lazypredict) (1.11.0)\n",
            "Requirement already satisfied: attrs>=17.4.0 in /usr/local/lib/python3.7/dist-packages (from pytest==5.4.3->lazypredict) (21.2.0)\n",
            "Requirement already satisfied: importlib-metadata>=0.12 in /usr/local/lib/python3.7/dist-packages (from pytest==5.4.3->lazypredict) (4.8.2)\n",
            "Requirement already satisfied: wcwidth in /usr/local/lib/python3.7/dist-packages (from pytest==5.4.3->lazypredict) (0.2.5)\n",
            "Requirement already satisfied: threadpoolctl>=2.0.0 in /usr/local/lib/python3.7/dist-packages (from scikit-learn==0.23.1->lazypredict) (3.0.0)\n",
            "Requirement already satisfied: typing-extensions>=3.6.4 in /usr/local/lib/python3.7/dist-packages (from importlib-metadata>=0.12->pytest==5.4.3->lazypredict) (3.10.0.2)\n",
            "Requirement already satisfied: zipp>=0.5 in /usr/local/lib/python3.7/dist-packages (from importlib-metadata>=0.12->pytest==5.4.3->lazypredict) (3.6.0)\n",
            "Requirement already satisfied: pyparsing!=3.0.5,>=2.0.2 in /usr/local/lib/python3.7/dist-packages (from packaging->pytest==5.4.3->lazypredict) (3.0.6)\n",
            "Building wheels for collected packages: PyYAML\n",
            "  Building wheel for PyYAML (setup.py) ... \u001b[?25l\u001b[?25hdone\n",
            "  Created wheel for PyYAML: filename=PyYAML-5.3.1-cp37-cp37m-linux_x86_64.whl size=44635 sha256=1fcf895c45f89a6601a79f65407320cac0998061e3ccc153efd702acb67da497\n",
            "  Stored in directory: /root/.cache/pip/wheels/5e/03/1e/e1e954795d6f35dfc7b637fe2277bff021303bd9570ecea653\n",
            "Successfully built PyYAML\n",
            "Installing collected packages: numpy, scipy, joblib, scikit-learn, pluggy, xgboost, tqdm, PyYAML, pytest, pandas, lightgbm, lazypredict\n",
            "  Attempting uninstall: numpy\n",
            "    Found existing installation: numpy 1.19.5\n",
            "    Uninstalling numpy-1.19.5:\n",
            "      Successfully uninstalled numpy-1.19.5\n",
            "  Attempting uninstall: scipy\n",
            "    Found existing installation: scipy 1.4.1\n",
            "    Uninstalling scipy-1.4.1:\n",
            "      Successfully uninstalled scipy-1.4.1\n",
            "  Attempting uninstall: joblib\n",
            "    Found existing installation: joblib 1.1.0\n",
            "    Uninstalling joblib-1.1.0:\n",
            "      Successfully uninstalled joblib-1.1.0\n",
            "  Attempting uninstall: scikit-learn\n",
            "    Found existing installation: scikit-learn 1.0.1\n",
            "    Uninstalling scikit-learn-1.0.1:\n",
            "      Successfully uninstalled scikit-learn-1.0.1\n",
            "  Attempting uninstall: pluggy\n",
            "    Found existing installation: pluggy 0.7.1\n",
            "    Uninstalling pluggy-0.7.1:\n",
            "      Successfully uninstalled pluggy-0.7.1\n",
            "  Attempting uninstall: xgboost\n",
            "    Found existing installation: xgboost 0.90\n",
            "    Uninstalling xgboost-0.90:\n",
            "      Successfully uninstalled xgboost-0.90\n",
            "  Attempting uninstall: tqdm\n",
            "    Found existing installation: tqdm 4.62.3\n",
            "    Uninstalling tqdm-4.62.3:\n",
            "      Successfully uninstalled tqdm-4.62.3\n",
            "  Attempting uninstall: PyYAML\n",
            "    Found existing installation: PyYAML 3.13\n",
            "    Uninstalling PyYAML-3.13:\n",
            "      Successfully uninstalled PyYAML-3.13\n",
            "  Attempting uninstall: pytest\n",
            "    Found existing installation: pytest 3.6.4\n",
            "    Uninstalling pytest-3.6.4:\n",
            "      Successfully uninstalled pytest-3.6.4\n",
            "  Attempting uninstall: pandas\n",
            "    Found existing installation: pandas 1.1.5\n",
            "    Uninstalling pandas-1.1.5:\n",
            "      Successfully uninstalled pandas-1.1.5\n",
            "  Attempting uninstall: lightgbm\n",
            "    Found existing installation: lightgbm 2.2.3\n",
            "    Uninstalling lightgbm-2.2.3:\n",
            "      Successfully uninstalled lightgbm-2.2.3\n",
            "\u001b[31mERROR: pip's dependency resolver does not currently take into account all the packages that are installed. This behaviour is the source of the following dependency conflicts.\n",
            "imbalanced-learn 0.8.1 requires scikit-learn>=0.24, but you have scikit-learn 0.23.1 which is incompatible.\n",
            "google-colab 1.0.0 requires pandas~=1.1.0; python_version >= \"3.0\", but you have pandas 1.0.5 which is incompatible.\n",
            "datascience 0.10.6 requires folium==0.2.1, but you have folium 0.8.3 which is incompatible.\n",
            "albumentations 0.1.12 requires imgaug<0.2.7,>=0.2.5, but you have imgaug 0.2.9 which is incompatible.\u001b[0m\n",
            "Successfully installed PyYAML-5.3.1 joblib-1.0.0 lazypredict-0.2.9 lightgbm-2.3.1 numpy-1.19.1 pandas-1.0.5 pluggy-0.13.1 pytest-5.4.3 scikit-learn-0.23.1 scipy-1.5.4 tqdm-4.56.0 xgboost-1.1.1\n"
          ]
        },
        {
          "output_type": "display_data",
          "data": {
            "application/vnd.colab-display-data+json": {
              "pip_warning": {
                "packages": [
                  "numpy",
                  "pandas"
                ]
              }
            }
          },
          "metadata": {}
        },
        {
          "output_type": "stream",
          "name": "stderr",
          "text": [
            "/usr/local/lib/python3.7/dist-packages/sklearn/utils/deprecation.py:143: FutureWarning: The sklearn.utils.testing module is  deprecated in version 0.22 and will be removed in version 0.24. The corresponding classes / functions should instead be imported from sklearn.utils. Anything that cannot be imported from sklearn.utils is now part of the private API.\n",
            "  warnings.warn(message, FutureWarning)\n"
          ]
        },
        {
          "output_type": "error",
          "ename": "ImportError",
          "evalue": "ignored",
          "traceback": [
            "\u001b[0;31m---------------------------------------------------------------------------\u001b[0m",
            "\u001b[0;31mImportError\u001b[0m                               Traceback (most recent call last)",
            "\u001b[0;32m<ipython-input-3-fc2075ac1ea8>\u001b[0m in \u001b[0;36m<module>\u001b[0;34m()\u001b[0m\n\u001b[1;32m     15\u001b[0m     \u001b[0mignore_warnings\u001b[0m\u001b[0;34m=\u001b[0m\u001b[0;32mTrue\u001b[0m\u001b[0;34m,\u001b[0m \u001b[0mrandom_state\u001b[0m\u001b[0;34m=\u001b[0m\u001b[0;36m1121218\u001b[0m\u001b[0;34m,\u001b[0m \u001b[0mverbose\u001b[0m\u001b[0;34m=\u001b[0m\u001b[0;32mFalse\u001b[0m\u001b[0;34m\u001b[0m\u001b[0;34m\u001b[0m\u001b[0m\n\u001b[1;32m     16\u001b[0m   )\n\u001b[0;32m---> 17\u001b[0;31m \u001b[0mmodels\u001b[0m\u001b[0;34m,\u001b[0m \u001b[0mpredictions\u001b[0m \u001b[0;34m=\u001b[0m \u001b[0mreg\u001b[0m\u001b[0;34m.\u001b[0m\u001b[0mfit\u001b[0m\u001b[0;34m(\u001b[0m\u001b[0mX_train\u001b[0m\u001b[0;34m,\u001b[0m \u001b[0mX_test\u001b[0m\u001b[0;34m,\u001b[0m \u001b[0my_train\u001b[0m\u001b[0;34m,\u001b[0m \u001b[0my_test\u001b[0m\u001b[0;34m)\u001b[0m  \u001b[0;31m# pass all sets\u001b[0m\u001b[0;34m\u001b[0m\u001b[0;34m\u001b[0m\u001b[0m\n\u001b[0m\u001b[1;32m     18\u001b[0m \u001b[0;34m\u001b[0m\u001b[0m\n",
            "\u001b[0;32m/usr/local/lib/python3.7/dist-packages/lazypredict/Supervised.py\u001b[0m in \u001b[0;36mfit\u001b[0;34m(self, X_train, X_test, y_train, y_test)\u001b[0m\n\u001b[1;32m    573\u001b[0m \u001b[0;34m\u001b[0m\u001b[0m\n\u001b[1;32m    574\u001b[0m         categorical_low, categorical_high = get_card_split(\n\u001b[0;32m--> 575\u001b[0;31m             \u001b[0mX_train\u001b[0m\u001b[0;34m,\u001b[0m \u001b[0mcategorical_features\u001b[0m\u001b[0;34m\u001b[0m\u001b[0;34m\u001b[0m\u001b[0m\n\u001b[0m\u001b[1;32m    576\u001b[0m         )\n\u001b[1;32m    577\u001b[0m \u001b[0;34m\u001b[0m\u001b[0m\n",
            "\u001b[0;32m/usr/local/lib/python3.7/dist-packages/lazypredict/Supervised.py\u001b[0m in \u001b[0;36mget_card_split\u001b[0;34m(df, cols, n)\u001b[0m\n\u001b[1;32m    142\u001b[0m         \u001b[0mColumns\u001b[0m \u001b[0;32mwith\u001b[0m \u001b[0mcardinality\u001b[0m \u001b[0;34m>=\u001b[0m \u001b[0mn\u001b[0m\u001b[0;34m\u001b[0m\u001b[0;34m\u001b[0m\u001b[0m\n\u001b[1;32m    143\u001b[0m     \"\"\"\n\u001b[0;32m--> 144\u001b[0;31m     \u001b[0mcond\u001b[0m \u001b[0;34m=\u001b[0m \u001b[0mdf\u001b[0m\u001b[0;34m[\u001b[0m\u001b[0mcols\u001b[0m\u001b[0;34m]\u001b[0m\u001b[0;34m.\u001b[0m\u001b[0mnunique\u001b[0m\u001b[0;34m(\u001b[0m\u001b[0;34m)\u001b[0m \u001b[0;34m>\u001b[0m \u001b[0mn\u001b[0m\u001b[0;34m\u001b[0m\u001b[0;34m\u001b[0m\u001b[0m\n\u001b[0m\u001b[1;32m    145\u001b[0m     \u001b[0mcard_high\u001b[0m \u001b[0;34m=\u001b[0m \u001b[0mcols\u001b[0m\u001b[0;34m[\u001b[0m\u001b[0mcond\u001b[0m\u001b[0;34m]\u001b[0m\u001b[0;34m\u001b[0m\u001b[0;34m\u001b[0m\u001b[0m\n\u001b[1;32m    146\u001b[0m     \u001b[0mcard_low\u001b[0m \u001b[0;34m=\u001b[0m \u001b[0mcols\u001b[0m\u001b[0;34m[\u001b[0m\u001b[0;34m~\u001b[0m\u001b[0mcond\u001b[0m\u001b[0;34m]\u001b[0m\u001b[0;34m\u001b[0m\u001b[0;34m\u001b[0m\u001b[0m\n",
            "\u001b[0;32m/usr/local/lib/python3.7/dist-packages/pandas/core/ops/common.py\u001b[0m in \u001b[0;36mnew_method\u001b[0;34m(self, other)\u001b[0m\n\u001b[1;32m     63\u001b[0m \u001b[0;34m\u001b[0m\u001b[0m\n\u001b[1;32m     64\u001b[0m         \u001b[0;32mreturn\u001b[0m \u001b[0mmethod\u001b[0m\u001b[0;34m(\u001b[0m\u001b[0mself\u001b[0m\u001b[0;34m,\u001b[0m \u001b[0mother\u001b[0m\u001b[0;34m)\u001b[0m\u001b[0;34m\u001b[0m\u001b[0;34m\u001b[0m\u001b[0m\n\u001b[0;32m---> 65\u001b[0;31m \u001b[0;34m\u001b[0m\u001b[0m\n\u001b[0m\u001b[1;32m     66\u001b[0m     \u001b[0;32mreturn\u001b[0m \u001b[0mnew_method\u001b[0m\u001b[0;34m\u001b[0m\u001b[0;34m\u001b[0m\u001b[0m\n",
            "\u001b[0;32m/usr/local/lib/python3.7/dist-packages/pandas/core/ops/__init__.py\u001b[0m in \u001b[0;36mwrapper\u001b[0;34m(self, other)\u001b[0m\n\u001b[1;32m    368\u001b[0m     \u001b[0mReturns\u001b[0m\u001b[0;34m\u001b[0m\u001b[0;34m\u001b[0m\u001b[0m\n\u001b[1;32m    369\u001b[0m     \u001b[0;34m-\u001b[0m\u001b[0;34m-\u001b[0m\u001b[0;34m-\u001b[0m\u001b[0;34m-\u001b[0m\u001b[0;34m-\u001b[0m\u001b[0;34m-\u001b[0m\u001b[0;34m-\u001b[0m\u001b[0;34m\u001b[0m\u001b[0;34m\u001b[0m\u001b[0m\n\u001b[0;32m--> 370\u001b[0;31m     \u001b[0mDataFrame\u001b[0m\u001b[0;34m\u001b[0m\u001b[0;34m\u001b[0m\u001b[0m\n\u001b[0m\u001b[1;32m    371\u001b[0m     \"\"\"\n\u001b[1;32m    372\u001b[0m     \u001b[0;31m# Note: we use iloc to access columns for compat with cases\u001b[0m\u001b[0;34m\u001b[0m\u001b[0;34m\u001b[0m\u001b[0;34m\u001b[0m\u001b[0m\n",
            "\u001b[0;32m/usr/local/lib/python3.7/dist-packages/pandas/core/ops/array_ops.py\u001b[0m in \u001b[0;36mcomparison_op\u001b[0;34m(left, right, op)\u001b[0m\n\u001b[1;32m    249\u001b[0m     \u001b[0;32melse\u001b[0m\u001b[0;34m:\u001b[0m\u001b[0;34m\u001b[0m\u001b[0;34m\u001b[0m\u001b[0m\n\u001b[1;32m    250\u001b[0m         \u001b[0mop_name\u001b[0m \u001b[0;34m=\u001b[0m \u001b[0;34mf\"__{op.__name__}__\"\u001b[0m\u001b[0;34m\u001b[0m\u001b[0;34m\u001b[0m\u001b[0m\n\u001b[0;32m--> 251\u001b[0;31m         \u001b[0mmethod\u001b[0m \u001b[0;34m=\u001b[0m \u001b[0mgetattr\u001b[0m\u001b[0;34m(\u001b[0m\u001b[0mlvalues\u001b[0m\u001b[0;34m,\u001b[0m \u001b[0mop_name\u001b[0m\u001b[0;34m)\u001b[0m\u001b[0;34m\u001b[0m\u001b[0;34m\u001b[0m\u001b[0m\n\u001b[0m\u001b[1;32m    252\u001b[0m         \u001b[0;32mwith\u001b[0m \u001b[0mnp\u001b[0m\u001b[0;34m.\u001b[0m\u001b[0merrstate\u001b[0m\u001b[0;34m(\u001b[0m\u001b[0mall\u001b[0m\u001b[0;34m=\u001b[0m\u001b[0;34m\"ignore\"\u001b[0m\u001b[0;34m)\u001b[0m\u001b[0;34m:\u001b[0m\u001b[0;34m\u001b[0m\u001b[0;34m\u001b[0m\u001b[0m\n\u001b[1;32m    253\u001b[0m             \u001b[0mres_values\u001b[0m \u001b[0;34m=\u001b[0m \u001b[0mmethod\u001b[0m\u001b[0;34m(\u001b[0m\u001b[0mrvalues\u001b[0m\u001b[0;34m)\u001b[0m\u001b[0;34m\u001b[0m\u001b[0;34m\u001b[0m\u001b[0m\n",
            "\u001b[0;32m/usr/local/lib/python3.7/dist-packages/pandas/core/ops/array_ops.py\u001b[0m in \u001b[0;36mna_arithmetic_op\u001b[0;34m(left, right, op, is_cmp)\u001b[0m\n\u001b[1;32m    138\u001b[0m     \u001b[0mReturns\u001b[0m\u001b[0;34m\u001b[0m\u001b[0;34m\u001b[0m\u001b[0m\n\u001b[1;32m    139\u001b[0m     \u001b[0;34m-\u001b[0m\u001b[0;34m-\u001b[0m\u001b[0;34m-\u001b[0m\u001b[0;34m-\u001b[0m\u001b[0;34m-\u001b[0m\u001b[0;34m-\u001b[0m\u001b[0;34m-\u001b[0m\u001b[0;34m\u001b[0m\u001b[0;34m\u001b[0m\u001b[0m\n\u001b[0;32m--> 140\u001b[0;31m     \u001b[0marray\u001b[0m\u001b[0;34m-\u001b[0m\u001b[0mlike\u001b[0m\u001b[0;34m\u001b[0m\u001b[0;34m\u001b[0m\u001b[0m\n\u001b[0m\u001b[1;32m    141\u001b[0m \u001b[0;34m\u001b[0m\u001b[0m\n\u001b[1;32m    142\u001b[0m     \u001b[0mRaises\u001b[0m\u001b[0;34m\u001b[0m\u001b[0;34m\u001b[0m\u001b[0m\n",
            "\u001b[0;32m/usr/local/lib/python3.7/dist-packages/pandas/core/computation/expressions.py\u001b[0m in \u001b[0;36m<module>\u001b[0;34m()\u001b[0m\n\u001b[1;32m     13\u001b[0m \u001b[0;32mfrom\u001b[0m \u001b[0mpandas\u001b[0m\u001b[0;34m.\u001b[0m\u001b[0m_config\u001b[0m \u001b[0;32mimport\u001b[0m \u001b[0mget_option\u001b[0m\u001b[0;34m\u001b[0m\u001b[0;34m\u001b[0m\u001b[0m\n\u001b[1;32m     14\u001b[0m \u001b[0;34m\u001b[0m\u001b[0m\n\u001b[0;32m---> 15\u001b[0;31m \u001b[0;32mfrom\u001b[0m \u001b[0mpandas\u001b[0m\u001b[0;34m.\u001b[0m\u001b[0m_libs\u001b[0m\u001b[0;34m.\u001b[0m\u001b[0mlib\u001b[0m \u001b[0;32mimport\u001b[0m \u001b[0mvalues_from_object\u001b[0m\u001b[0;34m\u001b[0m\u001b[0;34m\u001b[0m\u001b[0m\n\u001b[0m\u001b[1;32m     16\u001b[0m \u001b[0;34m\u001b[0m\u001b[0m\n\u001b[1;32m     17\u001b[0m \u001b[0;32mfrom\u001b[0m \u001b[0mpandas\u001b[0m\u001b[0;34m.\u001b[0m\u001b[0mcore\u001b[0m\u001b[0;34m.\u001b[0m\u001b[0mdtypes\u001b[0m\u001b[0;34m.\u001b[0m\u001b[0mgeneric\u001b[0m \u001b[0;32mimport\u001b[0m \u001b[0mABCDataFrame\u001b[0m\u001b[0;34m\u001b[0m\u001b[0;34m\u001b[0m\u001b[0m\n",
            "\u001b[0;31mImportError\u001b[0m: cannot import name 'values_from_object' from 'pandas._libs.lib' (/usr/local/lib/python3.7/dist-packages/pandas/_libs/lib.cpython-37m-x86_64-linux-gnu.so)",
            "",
            "\u001b[0;31m---------------------------------------------------------------------------\u001b[0;32m\nNOTE: If your import is failing due to a missing package, you can\nmanually install dependencies using either !pip or !apt.\n\nTo view examples of installing some common dependencies, click the\n\"Open Examples\" button below.\n\u001b[0;31m---------------------------------------------------------------------------\u001b[0m\n"
          ],
          "errorDetails": {
            "actions": [
              {
                "action": "open_url",
                "actionText": "Open Examples",
                "url": "/notebooks/snippets/importing_libraries.ipynb"
              }
            ]
          }
        }
      ]
    },
    {
      "cell_type": "markdown",
      "source": [
        ""
      ],
      "metadata": {
        "id": "VCee5NWQqdQO"
      }
    },
    {
      "cell_type": "code",
      "source": [
        "models.head(10)"
      ],
      "metadata": {
        "id": "4jP56DJyqWo4"
      },
      "execution_count": null,
      "outputs": []
    },
    {
      "cell_type": "markdown",
      "source": [
        "An insight like this will free you from the manual task of selecting a base model, a time much better spent on tasks like feature engineering.\n",
        "🛠 GitHub and documentation\n",
        "https://lazypredict.readthedocs.io/en/latest/index.html\n",
        "https://github.com/shankarpandala/lazypredict"
      ],
      "metadata": {
        "id": "rufhjpNWqd3_"
      }
    },
    {
      "cell_type": "markdown",
      "source": [
        "# 4️⃣. Optuna"
      ],
      "metadata": {
        "id": "a4fAbE5YqgYW"
      }
    },
    {
      "cell_type": "markdown",
      "source": [
        "One of the more recent libraries I have added to my skill-stack is Kagglers’ favorite — Optuna.\n",
        "Optuna is a next-generation automatic hyperparameter tuning framework designed to work on virtually any model and neural network available in today’s ML and Deep learning packages.\n",
        "It offers several advantages over similar tools like GridSearch, TPOT, HyperOPT, etc.:\n",
        "Platform-agnostic: has APIs to work with any framework, including XGBoost, LightGBM, CatBoost, Sklearn, Keras, TensorFlow, PyTorch, etc.\n",
        "A large suite of optimization algorithms with early stopping and pruning features baked in\n",
        "Easy parallelization with little or no changes to the code\n",
        "Built-in support to visually explore tuning history and the importance of each hyperparameter.\n",
        "My most favorite feature is its ability to pause/resume/save search histories. Optuna keeps track of all previous rounds of tuning, and you can resume the search for however long you want until you get the performance you want.\n",
        "Besides, you can make Optuna RAM-independent for massive datasets and searching by storing results in a local or a remote database by adding an extra parameter.\n",
        "🛠 GitHub and documentation\n",
        "https://github.com/optuna/optuna\n",
        "https://optuna.readthedocs.io/en/stable/\n",
        "🔬 Papers\n",
        "Optuna: A Next-generation Hyperparameter Optimization Framework\n",
        "💻 Demo\n"
      ],
      "metadata": {
        "id": "7Wj7tTmEqjX9"
      }
    },
    {
      "cell_type": "code",
      "source": [
        "import optuna  # pip install optuna\n",
        "\n",
        "def objective(trial):\n",
        "    x = trial.suggest_float(\"x\", -7, 7)\n",
        "    y = trial.suggest_float(\"y\", -7, 7)\n",
        "    return (x - 1) ** 2 + (y + 3) ** 2\n",
        "\n",
        "study = optuna.create_study()\n",
        "study.optimize(objective, n_trials=200)  # number of iterations"
      ],
      "metadata": {
        "id": "eLF4TiVQqkPB"
      },
      "execution_count": null,
      "outputs": []
    },
    {
      "cell_type": "code",
      "source": [
        "study.best_params"
      ],
      "metadata": {
        "id": "rR3wniENqoFH"
      },
      "execution_count": null,
      "outputs": []
    },
    {
      "cell_type": "code",
      "source": [
        "study.best_value"
      ],
      "metadata": {
        "id": "MImsOO-cqo28"
      },
      "execution_count": null,
      "outputs": []
    },
    {
      "cell_type": "markdown",
      "source": [
        "For the sake of simplicity, we are trying to optimize the function (x — 1)² + (y + 3)². As you can see, the tuned values for x and y are pretty close to the optimal (1, -3).\n",
        "Hyperparameter tuning for real estimators is a bit more involved, so why don’t you check out my detailed guide:"
      ],
      "metadata": {
        "id": "HQgjLrD5qsyY"
      }
    },
    {
      "cell_type": "markdown",
      "source": [
        "https://towardsdatascience.com/why-is-everyone-at-kaggle-obsessed-with-optuna-for-hyperparameter-tuning-7608fdca337c"
      ],
      "metadata": {
        "id": "W7fIjIeyqyHn"
      }
    },
    {
      "cell_type": "code",
      "source": [
        ""
      ],
      "metadata": {
        "id": "lW0yWV_uqyym"
      },
      "execution_count": null,
      "outputs": []
    },
    {
      "cell_type": "markdown",
      "source": [
        "# 5️⃣. SHAP"
      ],
      "metadata": {
        "id": "pC8pmswqq0o_"
      }
    },
    {
      "cell_type": "markdown",
      "source": [
        "Explainable AI (XAI) is one of the strongest trends in the ML and AI sphere. Companies and businesses are starting to be fussy over the adoption of AI solutions due to their “black box” nature.\n",
        "Hey, no one can blame them. If data scientists themselves are coming up with tools to understand the models they created, the worries and suspicions of business owners are entirely justified.\n",
        "One of those tools that often come up in grandmasters’ notebooks on Kaggle is SHAP.\n",
        "SHAP (Shapley Additive exPlanations) is an approach to explain how a model works using concepts from game theory. At its score, SHAP uses something called Shapley values to explain:\n",
        "Which features in the model are the most important\n",
        "The model’s decisions behind any single prediction. For example, asking which features led to this particular output.\n",
        "The most notable aspects of SHAP are its unified theme and unique plots that break down the mechanics of any model and neural network. Here is an example plot that shows the feature importances in terms of Shapley values for a single prediction:\n",
        "https://towardsdatascience.com/7-cool-python-packages-kagglers-are-using-without-telling-you-e83298781cf4#:~:text=Explainable%20AI%20(XAI,a%20single%20prediction%3A\n",
        "\n",
        "Trust me, SHAP has way cooler plots. It is such a powerful tool that the Kaggle platform has an entire free course built around it.\n",
        "🛠 GitHub and documentation\n",
        "https://shap.readthedocs.io/en/latest/index.html\n",
        "https://github.com/slundberg/shap\n",
        "🔬 Papers\n",
        "A Unified Approach to Interpreting Model Predictions\n",
        "From local explanations to a global understanding with explainable AI for trees\n",
        "Explainable machine-learning predictions for the prevention of hypoxemia during surgery\n",
        "💻 Demo\n",
        "Here is a short snippet to create a bee swarm plot of all predictions from the classic Diabetes dataset:"
      ],
      "metadata": {
        "id": "VE_ZU1hXq2s9"
      }
    },
    {
      "cell_type": "code",
      "source": [
        "!pip install shap\n",
        "import shap  # pip install shap\n",
        "import xgboost as xgb\n",
        "\n",
        "# Load and train a model\n",
        "X, y = shap.datasets.diabetes()\n",
        "clf = xgb.XGBRegressor().fit(X, y)\n",
        "\n",
        "# Explain model's predictions with SHAP\n",
        "explainer = shap.Explainer(clf)\n",
        "shap_values = explainer(X)\n",
        "\n",
        "# Visualize the predictions' explanation\n",
        "shap.plots.beeswarm(shap_values)"
      ],
      "metadata": {
        "colab": {
          "base_uri": "https://localhost:8080/",
          "height": 784
        },
        "id": "g0o5e73aq-QC",
        "outputId": "4c70c668-f7ea-4f98-e927-fc790d849417"
      },
      "execution_count": 5,
      "outputs": [
        {
          "output_type": "stream",
          "name": "stdout",
          "text": [
            "Collecting shap\n",
            "  Downloading shap-0.40.0-cp37-cp37m-manylinux2010_x86_64.whl (564 kB)\n",
            "\u001b[?25l\r\u001b[K     |▋                               | 10 kB 22.1 MB/s eta 0:00:01\r\u001b[K     |█▏                              | 20 kB 25.1 MB/s eta 0:00:01\r\u001b[K     |█▊                              | 30 kB 11.3 MB/s eta 0:00:01\r\u001b[K     |██▎                             | 40 kB 11.2 MB/s eta 0:00:01\r\u001b[K     |███                             | 51 kB 5.3 MB/s eta 0:00:01\r\u001b[K     |███▌                            | 61 kB 5.8 MB/s eta 0:00:01\r\u001b[K     |████                            | 71 kB 5.4 MB/s eta 0:00:01\r\u001b[K     |████▋                           | 81 kB 6.0 MB/s eta 0:00:01\r\u001b[K     |█████▏                          | 92 kB 5.9 MB/s eta 0:00:01\r\u001b[K     |█████▉                          | 102 kB 5.3 MB/s eta 0:00:01\r\u001b[K     |██████▍                         | 112 kB 5.3 MB/s eta 0:00:01\r\u001b[K     |███████                         | 122 kB 5.3 MB/s eta 0:00:01\r\u001b[K     |███████▌                        | 133 kB 5.3 MB/s eta 0:00:01\r\u001b[K     |████████▏                       | 143 kB 5.3 MB/s eta 0:00:01\r\u001b[K     |████████▊                       | 153 kB 5.3 MB/s eta 0:00:01\r\u001b[K     |█████████▎                      | 163 kB 5.3 MB/s eta 0:00:01\r\u001b[K     |█████████▉                      | 174 kB 5.3 MB/s eta 0:00:01\r\u001b[K     |██████████▍                     | 184 kB 5.3 MB/s eta 0:00:01\r\u001b[K     |███████████                     | 194 kB 5.3 MB/s eta 0:00:01\r\u001b[K     |███████████▋                    | 204 kB 5.3 MB/s eta 0:00:01\r\u001b[K     |████████████▏                   | 215 kB 5.3 MB/s eta 0:00:01\r\u001b[K     |████████████▊                   | 225 kB 5.3 MB/s eta 0:00:01\r\u001b[K     |█████████████▍                  | 235 kB 5.3 MB/s eta 0:00:01\r\u001b[K     |██████████████                  | 245 kB 5.3 MB/s eta 0:00:01\r\u001b[K     |██████████████▌                 | 256 kB 5.3 MB/s eta 0:00:01\r\u001b[K     |███████████████                 | 266 kB 5.3 MB/s eta 0:00:01\r\u001b[K     |███████████████▋                | 276 kB 5.3 MB/s eta 0:00:01\r\u001b[K     |████████████████▎               | 286 kB 5.3 MB/s eta 0:00:01\r\u001b[K     |████████████████▉               | 296 kB 5.3 MB/s eta 0:00:01\r\u001b[K     |█████████████████▍              | 307 kB 5.3 MB/s eta 0:00:01\r\u001b[K     |██████████████████              | 317 kB 5.3 MB/s eta 0:00:01\r\u001b[K     |██████████████████▋             | 327 kB 5.3 MB/s eta 0:00:01\r\u001b[K     |███████████████████▏            | 337 kB 5.3 MB/s eta 0:00:01\r\u001b[K     |███████████████████▊            | 348 kB 5.3 MB/s eta 0:00:01\r\u001b[K     |████████████████████▎           | 358 kB 5.3 MB/s eta 0:00:01\r\u001b[K     |████████████████████▉           | 368 kB 5.3 MB/s eta 0:00:01\r\u001b[K     |█████████████████████▌          | 378 kB 5.3 MB/s eta 0:00:01\r\u001b[K     |██████████████████████          | 389 kB 5.3 MB/s eta 0:00:01\r\u001b[K     |██████████████████████▋         | 399 kB 5.3 MB/s eta 0:00:01\r\u001b[K     |███████████████████████▏        | 409 kB 5.3 MB/s eta 0:00:01\r\u001b[K     |███████████████████████▉        | 419 kB 5.3 MB/s eta 0:00:01\r\u001b[K     |████████████████████████▍       | 430 kB 5.3 MB/s eta 0:00:01\r\u001b[K     |█████████████████████████       | 440 kB 5.3 MB/s eta 0:00:01\r\u001b[K     |█████████████████████████▌      | 450 kB 5.3 MB/s eta 0:00:01\r\u001b[K     |██████████████████████████      | 460 kB 5.3 MB/s eta 0:00:01\r\u001b[K     |██████████████████████████▊     | 471 kB 5.3 MB/s eta 0:00:01\r\u001b[K     |███████████████████████████▎    | 481 kB 5.3 MB/s eta 0:00:01\r\u001b[K     |███████████████████████████▉    | 491 kB 5.3 MB/s eta 0:00:01\r\u001b[K     |████████████████████████████▍   | 501 kB 5.3 MB/s eta 0:00:01\r\u001b[K     |█████████████████████████████   | 512 kB 5.3 MB/s eta 0:00:01\r\u001b[K     |█████████████████████████████▋  | 522 kB 5.3 MB/s eta 0:00:01\r\u001b[K     |██████████████████████████████▏ | 532 kB 5.3 MB/s eta 0:00:01\r\u001b[K     |██████████████████████████████▊ | 542 kB 5.3 MB/s eta 0:00:01\r\u001b[K     |███████████████████████████████▎| 552 kB 5.3 MB/s eta 0:00:01\r\u001b[K     |████████████████████████████████| 563 kB 5.3 MB/s eta 0:00:01\r\u001b[K     |████████████████████████████████| 564 kB 5.3 MB/s \n",
            "\u001b[?25hRequirement already satisfied: pandas in /usr/local/lib/python3.7/dist-packages (from shap) (1.0.5)\n",
            "Requirement already satisfied: cloudpickle in /usr/local/lib/python3.7/dist-packages (from shap) (1.3.0)\n",
            "Requirement already satisfied: scikit-learn in /usr/local/lib/python3.7/dist-packages (from shap) (0.23.1)\n",
            "Requirement already satisfied: scipy in /usr/local/lib/python3.7/dist-packages (from shap) (1.5.4)\n",
            "Collecting slicer==0.0.7\n",
            "  Downloading slicer-0.0.7-py3-none-any.whl (14 kB)\n",
            "Requirement already satisfied: numpy in /usr/local/lib/python3.7/dist-packages (from shap) (1.19.1)\n",
            "Requirement already satisfied: numba in /usr/local/lib/python3.7/dist-packages (from shap) (0.51.2)\n",
            "Requirement already satisfied: packaging>20.9 in /usr/local/lib/python3.7/dist-packages (from shap) (21.3)\n",
            "Requirement already satisfied: tqdm>4.25.0 in /usr/local/lib/python3.7/dist-packages (from shap) (4.56.0)\n",
            "Requirement already satisfied: pyparsing!=3.0.5,>=2.0.2 in /usr/local/lib/python3.7/dist-packages (from packaging>20.9->shap) (3.0.6)\n",
            "Requirement already satisfied: llvmlite<0.35,>=0.34.0.dev0 in /usr/local/lib/python3.7/dist-packages (from numba->shap) (0.34.0)\n",
            "Requirement already satisfied: setuptools in /usr/local/lib/python3.7/dist-packages (from numba->shap) (57.4.0)\n",
            "Requirement already satisfied: python-dateutil>=2.6.1 in /usr/local/lib/python3.7/dist-packages (from pandas->shap) (2.8.2)\n",
            "Requirement already satisfied: pytz>=2017.2 in /usr/local/lib/python3.7/dist-packages (from pandas->shap) (2018.9)\n",
            "Requirement already satisfied: six>=1.5 in /usr/local/lib/python3.7/dist-packages (from python-dateutil>=2.6.1->pandas->shap) (1.15.0)\n",
            "Requirement already satisfied: joblib>=0.11 in /usr/local/lib/python3.7/dist-packages (from scikit-learn->shap) (1.0.0)\n",
            "Requirement already satisfied: threadpoolctl>=2.0.0 in /usr/local/lib/python3.7/dist-packages (from scikit-learn->shap) (3.0.0)\n",
            "Installing collected packages: slicer, shap\n",
            "Successfully installed shap-0.40.0 slicer-0.0.7\n"
          ]
        },
        {
          "output_type": "display_data",
          "data": {
            "image/png": "[encoded data removed]",
            "text/plain": [
              "<Figure size 576x396 with 2 Axes>"
            ]
          },
          "metadata": {
            "needs_background": "light"
          }
        }
      ]
    },
    {
      "cell_type": "markdown",
      "source": [
        "# 6️⃣. Rapids cuDF"
      ],
      "metadata": {
        "id": "JEUJvqQCrKL7"
      }
    },
    {
      "cell_type": "markdown",
      "source": [
        "If you thought GPUs are deep learning-exclusive, you are horribly mistaken.\n",
        "The cuDF library, created by the open-source platform RAPIDs, enables you to run tabular manipulation operations on one or more GPUs.\n",
        "Unlike datatable, cuDF has a very similar API to Pandas, thus offering a less steep learning curve. As it is standard with GPUs, the library is super fast, giving it an edge over datatable when combined with its Pandas-like API.\n",
        "The only hassle when using cuDF is its installation — it requires:\n",
        "CUDA Toolkit 11.0+\n",
        "NVIDIA driver 450.80.02+\n",
        "Pascal architecture or better (Compute Capability >=6.0)\n",
        "If you want to try out the library without installation limitations, Kaggle kernels are a great option. Here is a notebook to get you started.\n",
        "🛠 GitHub and documentation\n",
        "https://docs.rapids.ai/api/cudf/stable/\n",
        "https://github.com/rapidsai/cudf\n",
        "💻 Demo\n",
        "Here is a snippet from the documentation that shows a simple GroupBy operation on the tips dataset:\n"
      ],
      "metadata": {
        "id": "Fnnzt12frNF6"
      }
    },
    {
      "cell_type": "code",
      "source": [
        "import cudf, io, requests\n",
        "from io import StringIO\n",
        "\n",
        "url = \"https://github.com/plotly/datasets/raw/master/tips.csv\"\n",
        "content = requests.get(url).content.decode('utf-8')\n",
        "\n",
        "tips_df = cudf.read_csv(StringIO(content))\n",
        "tips_df['tip_percentage'] = tips_df['tip'] / tips_df['total_bill'] * 100\n",
        "\n",
        "# display average tip by dining party size\n",
        "print(tips_df.groupby('size').tip_percentage.mean())"
      ],
      "metadata": {
        "id": "puhsrIcZrO1g"
      },
      "execution_count": null,
      "outputs": []
    },
    {
      "cell_type": "markdown",
      "source": [
        "# . Automatic EDA libraries"
      ],
      "metadata": {
        "id": "daTiwYxsrRax"
      }
    },
    {
      "cell_type": "markdown",
      "source": [
        "Normally, I am against any library or tool that takes a programmer away from writing actual code. But, since auto-EDA libraries are all the rage now on Kaggle, I had to include this section for completeness.\n",
        "Initially, this section was supposed to be only about AutoViz, which uses XGBoost under the hood to display the most important information of the dataset (that’s why I chose it). Later, I decided to include a few others as well.\n",
        "Here is a list of the best auto EDA libraries I have found:\n",
        "DataPrep — the most comprehensive auto EDA [GitHub, Documentation]\n",
        "AutoViz — the fastest auto EDA [GitHub]\n",
        "PandasProfiling — the earliest and one of the best auto EDA tools [GitHub, Documentation]\n",
        "Lux — the most user-friendly and luxurious EDA [GitHub, Documentation]\n",
        "💻 Demo\n",
        "If you want to see how each package performs EDA, check out this great notebook on Kaggle.\n",
        "\n",
        "https://www.kaggle.com/andreshg/automatic-eda-libraries-comparisson/notebook#6.-%F0%9F%93%8A-D-Tale-%F0%9F%93%9A"
      ],
      "metadata": {
        "id": "ckI3tgMmrUyc"
      }
    },
    {
      "cell_type": "markdown",
      "source": [
        "Summary\n",
        "The available tools and packages to execute data science tasks are endless. Everyone has the right to be overwhelmed by this.\n",
        "But I sincerely hope the tools outlined in this post helped narrow down your focus to what is trending and delivering results in the hands of members of the largest ML community."
      ],
      "metadata": {
        "id": "nqFZh7SurZlj"
      }
    }
  ]
}